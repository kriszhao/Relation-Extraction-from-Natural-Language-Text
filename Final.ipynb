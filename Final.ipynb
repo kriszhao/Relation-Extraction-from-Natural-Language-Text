{
 "cells": [
  {
   "cell_type": "markdown",
   "metadata": {
    "colab_type": "text",
    "id": "GSB0FPUTMQ9s"
   },
   "source": [
    "## Table of Contents\n",
    "\n",
    "* Data Set\n",
    "\n",
    "* Defining a Baseline Model\n",
    "\n",
    "* Deep Neural Networks\n",
    "    * MLP\n",
    "    * Convolutional Neural Networks (CNN)\\\n",
    "    https://stackoverflow.com/questions/49840968/valueerror-input-0-is-incompatible-with-layer-conv1d-1-expected-ndim-3-found\n",
    "    \n",
    "* What Is a Word Embedding?\n",
    "     * One-Hot Encoding\\\n",
    "     https://stackoverflow.com/questions/50473381/scikit-learns-labelbinarizer-vs-onehotencoder\n",
    "     * Keras Word Embedding\\\n",
    "     https://stats.stackexchange.com/questions/270546/how-does-keras-embedding-layer-work\n",
    "     * Bert Sentence Embedding \\\n",
    "     https://github.com/UKPLab/sentence-transformers\n",
    "     \n",
    "* How To avoid Overfitting?\n",
    "     * pooling\\\n",
    "     https://machinelearningmastery.com/pooling-layers-for-convolutional-neural-networks/\n",
    "     * dropout\\\n",
    "     https://machinelearningmastery.com/dropout-regularization-deep-learning-models-keras/\n",
    "     \n",
    "* How To choose Loss Function and Laster Layer Activation Function? \\\n",
    "    * intro\\\n",
    "    https://www.dlology.com/blog/how-to-choose-last-layer-activation-and-loss-function/ \\\n",
    "    * code\\\n",
    "    https://www.dlology.com/blog/how-to-do-multi-class-multi-label-classification-for-news-categories/\n",
    "    https://stackoverflow.com/questions/44164749/how-does-keras-handle-multilabel-classification\n",
    "    * math \\\n",
    "    https://www.depends-on-the-definition.com/guide-to-multi-label-classification-with-neural-networks/\n",
    "    \n",
    "*  Hyperparameters Optimization\n",
    "    * k folder\\\n",
    "    https://machinelearningmastery.com/k-fold-cross-validation/ \\\n",
    "    * grid search\\\n",
    "    https://machinelearningmastery.com/how-to-grid-search-deep-learning-models-for-time-series-forecasting/\n",
    "    * modle save \\\n",
    "    https://machinelearningmastery.com/check-point-deep-learning-models-keras/ \\\n",
    "    https://machinelearningmastery.com/save-load-keras-deep-learning-models/ \\\n",
    "    * early stop \\\n",
    "    https://machinelearningmastery.com/how-to-stop-training-deep-neural-networks-at-the-right-time-using-early-stopping/\n",
    "\n",
    "*  Imbalanced Dataset\\\n",
    "    https://www.dlology.com/blog/multi-class-classification-with-focal-loss-for-imbalanced-datasets/ \\\n",
    "    https://towardsdatascience.com/machine-learning-multiclass-classification-with-imbalanced-data-set-29f6a177c1a \\\n",
    "    https://github.com/vinayakkailas/BERT_multilabel_text_classification\n",
    "    \n",
    "\n",
    "## Reference \\\n",
    "\n",
    "\n",
    "\n",
    "http://nlpprogress.com/english/relationship_extraction.html \\\n",
    "https://towardsdatascience.com/nlp-extract-contextualized-word-embeddings-from-bert-keras-tf-67ef29f60a7b \\\n",
    "https://towardsdatascience.com/bert-in-keras-with-tensorflow-hub-76bcbc9417b\n",
    "\n",
    "* some reading:\\\n",
    "    * lstm and gru\\\n",
    "    https://towardsdatascience.com/illustrated-guide-to-lstms-and-gru-s-a-step-by-step-explanation-44e9eb85bf21 \\\n",
    "    * f1 score\\\n",
    "    https://scikit-learn.org/stable/modules/generated/sklearn.metrics.f1_score.html \\\n",
    "    * begin state for multi label\\\n",
    "    https://www.pyimagesearch.com/2018/05/07/multi-label-classification-with-keras/ \\\n",
    "    * filter words \\\n",
    "    https://stackoverflow.com/questions/42867002/filter-object-error-in-python-3 \\\n",
    "    https://stackoverflow.com/questions/32970204/filter-using-lambda-function-python \\\n",
    "    https://stackoverflow.com/questions/9953619/technique-to-remove-common-wordsand-their-plural-versions-from-a-string \\\n",
    "    \n",
    "* NLP class: \\\n",
    "    * video from github\\\n",
    "    https://github.com/Developer-Y/cs-video-courses\n",
    "    \n",
    "    * berkeley \\\n",
    "    http://people.ischool.berkeley.edu/~dbamman/nlp20.html#info\n",
    "    \n",
    "* previous class project\\\n",
    "    * pet finder\\\n",
    "    https://github.com/apvitek/csmp240finalproject/blob/master/attempts/keras_multilayer_perceptron.ipynb \\\n",
    "    \n",
    "    * label relations\\\n",
    "    http://scikit.ml/labelrelations.html\n",
    "    \n",
    "    * possible rescoures| continuing reading++++\\\n",
    "    https://github.com/vinayakkailas/BERT_multilabel_text_classification \\\n",
    "    https://github.com/CyberZHG/keras-word-char-embd \\\n",
    "    https://www.kaggle.com/abhishek/approaching-almost-any-nlp-problem-on-kaggle \\\n",
    "    https://github.com/Neerajj9/Sentiment-Analysis-with-Word-Embeddings \\\n",
    "    \n",
    "\n",
    "\n",
    "\n",
    "\n"
   ]
  },
  {
   "cell_type": "markdown",
   "metadata": {
    "colab_type": "text",
    "id": "PAz0FGeFytkF"
   },
   "source": [
    "### Importing Packages\n",
    "* Load the data with Pandas\n",
    "* Creat `RELATIONS_NUM` in train for couting the number of relations in each sentence"
   ]
  },
  {
   "cell_type": "code",
   "execution_count": 3,
   "metadata": {
    "colab": {
     "base_uri": "https://localhost:8080/",
     "height": 493
    },
    "colab_type": "code",
    "id": "DK13K96iytkG",
    "outputId": "ec2f3510-dc80-41c1-faed-f7da7e44c868"
   },
   "outputs": [
    {
     "name": "stderr",
     "output_type": "stream",
     "text": [
      "Using TensorFlow backend.\n"
     ]
    },
    {
     "data": {
      "text/html": [
       "<div>\n",
       "<style scoped>\n",
       "    .dataframe tbody tr th:only-of-type {\n",
       "        vertical-align: middle;\n",
       "    }\n",
       "\n",
       "    .dataframe tbody tr th {\n",
       "        vertical-align: top;\n",
       "    }\n",
       "\n",
       "    .dataframe thead th {\n",
       "        text-align: right;\n",
       "    }\n",
       "</style>\n",
       "<table border=\"1\" class=\"dataframe\">\n",
       "  <thead>\n",
       "    <tr style=\"text-align: right;\">\n",
       "      <th></th>\n",
       "      <th>ID</th>\n",
       "      <th>UTTERANCE</th>\n",
       "      <th>CORE RELATIONS</th>\n",
       "    </tr>\n",
       "  </thead>\n",
       "  <tbody>\n",
       "    <tr>\n",
       "      <td>0</td>\n",
       "      <td>0</td>\n",
       "      <td>who plays luke on star wars new hope</td>\n",
       "      <td>movie.starring.actor movie.starring.character</td>\n",
       "    </tr>\n",
       "    <tr>\n",
       "      <td>1</td>\n",
       "      <td>1</td>\n",
       "      <td>show credits for the godfather</td>\n",
       "      <td>movie.starring.actor</td>\n",
       "    </tr>\n",
       "    <tr>\n",
       "      <td>2</td>\n",
       "      <td>2</td>\n",
       "      <td>who was the main actor in the exorcist</td>\n",
       "      <td>movie.starring.actor</td>\n",
       "    </tr>\n",
       "    <tr>\n",
       "      <td>3</td>\n",
       "      <td>3</td>\n",
       "      <td>find the female actress from the movie she s t...</td>\n",
       "      <td>movie.starring.actor actor.gender</td>\n",
       "    </tr>\n",
       "    <tr>\n",
       "      <td>4</td>\n",
       "      <td>4</td>\n",
       "      <td>who played dory on finding nemo</td>\n",
       "      <td>movie.starring.actor movie.starring.character</td>\n",
       "    </tr>\n",
       "  </tbody>\n",
       "</table>\n",
       "</div>"
      ],
      "text/plain": [
       "   ID                                          UTTERANCE  \\\n",
       "0   0               who plays luke on star wars new hope   \n",
       "1   1                     show credits for the godfather   \n",
       "2   2             who was the main actor in the exorcist   \n",
       "3   3  find the female actress from the movie she s t...   \n",
       "4   4                    who played dory on finding nemo   \n",
       "\n",
       "                                  CORE RELATIONS  \n",
       "0  movie.starring.actor movie.starring.character  \n",
       "1                           movie.starring.actor  \n",
       "2                           movie.starring.actor  \n",
       "3              movie.starring.actor actor.gender  \n",
       "4  movie.starring.actor movie.starring.character  "
      ]
     },
     "execution_count": 3,
     "metadata": {},
     "output_type": "execute_result"
    }
   ],
   "source": [
    "import numpy as np \n",
    "import pandas as pd \n",
    "import seaborn as sns \n",
    "import matplotlib.pyplot as plt\n",
    "\n",
    "from sklearn.preprocessing import LabelBinarizer\n",
    "from sklearn.preprocessing import LabelEncoder\n",
    "from sklearn.preprocessing import OneHotEncoder\n",
    "from sklearn.feature_extraction.text import CountVectorizer\n",
    "from sklearn.model_selection import train_test_split\n",
    "from sklearn.linear_model import LogisticRegression\n",
    "from keras.callbacks import ModelCheckpoint, EarlyStopping\n",
    "# !unzip ./data.zip\n",
    "train = pd.read_csv('./data/hw1_train.csv')\n",
    "test = pd.read_csv('./data/hw1_test.csv')\n",
    "submission = pd.read_csv('./data/sampleSubmission.csv')\n",
    "train.head()"
   ]
  },
  {
   "cell_type": "markdown",
   "metadata": {
    "colab_type": "text",
    "id": "z4ahEpNzytkP"
   },
   "source": [
    "## Training set \n",
    "{RangeIndex: 3338 entries, 0 to 3337}"
   ]
  },
  {
   "cell_type": "code",
   "execution_count": 4,
   "metadata": {
    "colab": {
     "base_uri": "https://localhost:8080/",
     "height": 153
    },
    "colab_type": "code",
    "id": "vX1mc2jbytkR",
    "outputId": "23699187-a586-4f24-9443-ac852914fa61"
   },
   "outputs": [
    {
     "name": "stdout",
     "output_type": "stream",
     "text": [
      "<class 'pandas.core.frame.DataFrame'>\n",
      "RangeIndex: 3338 entries, 0 to 3337\n",
      "Data columns (total 3 columns):\n",
      "ID                3338 non-null int64\n",
      "UTTERANCE         3338 non-null object\n",
      "CORE RELATIONS    3338 non-null object\n",
      "dtypes: int64(1), object(2)\n",
      "memory usage: 78.4+ KB\n"
     ]
    }
   ],
   "source": [
    "train.info()"
   ]
  },
  {
   "cell_type": "markdown",
   "metadata": {
    "colab_type": "text",
    "id": "SZ42Bk6NMQ9x"
   },
   "source": [
    "##  Preprocess\n",
    "We found that each utterance may match several core relations, it means we need to predict:\n",
    "    * how many relations for every utterance\n",
    "    * for each one, what it is\n",
    "    \n",
    "**Simplify the problem** \n",
    "\n",
    "Make `every sentence` only match to `one single relation` in pandas\n",
    "\n",
    "At the begining stage, we want to have one easy problem to start, so we want to narrow down to only one main relation for each utterance. This is not a big jump for this task, since the majority **(88.17%)** of utterance have one core relation. According to the train set, we select our single-label by it's probaility of the apperance. In this way, we always guess the one with high probability in our training set.\n",
    "\n",
    "\n",
    "\n",
    "In order to reach our goal, we creat a dictionary for `relations` with `counts`, a dictionary for `multi_relations` with `counts`, and a dictionary for `replace_relations`."
   ]
  },
  {
   "cell_type": "code",
   "execution_count": 5,
   "metadata": {
    "colab": {
     "base_uri": "https://localhost:8080/",
     "height": 592
    },
    "colab_type": "code",
    "id": "zY5NctqmMQ94",
    "outputId": "b47010e9-2a94-4134-f38d-66e8e110703c",
    "scrolled": true
   },
   "outputs": [
    {
     "data": {
      "text/html": [
       "<div>\n",
       "<style scoped>\n",
       "    .dataframe tbody tr th:only-of-type {\n",
       "        vertical-align: middle;\n",
       "    }\n",
       "\n",
       "    .dataframe tbody tr th {\n",
       "        vertical-align: top;\n",
       "    }\n",
       "\n",
       "    .dataframe thead th {\n",
       "        text-align: right;\n",
       "    }\n",
       "</style>\n",
       "<table border=\"1\" class=\"dataframe\">\n",
       "  <thead>\n",
       "    <tr style=\"text-align: right;\">\n",
       "      <th></th>\n",
       "      <th>ID</th>\n",
       "      <th>UTTERANCE</th>\n",
       "      <th>CORE RELATIONS</th>\n",
       "      <th>RELATIONS_NUM</th>\n",
       "      <th>REPLACED_RELATION</th>\n",
       "    </tr>\n",
       "  </thead>\n",
       "  <tbody>\n",
       "    <tr>\n",
       "      <td>0</td>\n",
       "      <td>0</td>\n",
       "      <td>who plays luke on star wars new hope</td>\n",
       "      <td>movie.starring.actor movie.starring.character</td>\n",
       "      <td>2</td>\n",
       "      <td>movie.starring.actor</td>\n",
       "    </tr>\n",
       "    <tr>\n",
       "      <td>1</td>\n",
       "      <td>1</td>\n",
       "      <td>show credits for the godfather</td>\n",
       "      <td>movie.starring.actor</td>\n",
       "      <td>1</td>\n",
       "      <td>movie.starring.actor</td>\n",
       "    </tr>\n",
       "    <tr>\n",
       "      <td>2</td>\n",
       "      <td>2</td>\n",
       "      <td>who was the main actor in the exorcist</td>\n",
       "      <td>movie.starring.actor</td>\n",
       "      <td>1</td>\n",
       "      <td>movie.starring.actor</td>\n",
       "    </tr>\n",
       "    <tr>\n",
       "      <td>3</td>\n",
       "      <td>3</td>\n",
       "      <td>find the female actress from the movie she s t...</td>\n",
       "      <td>movie.starring.actor actor.gender</td>\n",
       "      <td>2</td>\n",
       "      <td>movie.starring.actor</td>\n",
       "    </tr>\n",
       "    <tr>\n",
       "      <td>4</td>\n",
       "      <td>4</td>\n",
       "      <td>who played dory on finding nemo</td>\n",
       "      <td>movie.starring.actor movie.starring.character</td>\n",
       "      <td>2</td>\n",
       "      <td>movie.starring.actor</td>\n",
       "    </tr>\n",
       "  </tbody>\n",
       "</table>\n",
       "</div>"
      ],
      "text/plain": [
       "   ID                                          UTTERANCE  \\\n",
       "0   0               who plays luke on star wars new hope   \n",
       "1   1                     show credits for the godfather   \n",
       "2   2             who was the main actor in the exorcist   \n",
       "3   3  find the female actress from the movie she s t...   \n",
       "4   4                    who played dory on finding nemo   \n",
       "\n",
       "                                  CORE RELATIONS  RELATIONS_NUM  \\\n",
       "0  movie.starring.actor movie.starring.character              2   \n",
       "1                           movie.starring.actor              1   \n",
       "2                           movie.starring.actor              1   \n",
       "3              movie.starring.actor actor.gender              2   \n",
       "4  movie.starring.actor movie.starring.character              2   \n",
       "\n",
       "      REPLACED_RELATION  \n",
       "0  movie.starring.actor  \n",
       "1  movie.starring.actor  \n",
       "2  movie.starring.actor  \n",
       "3  movie.starring.actor  \n",
       "4  movie.starring.actor  "
      ]
     },
     "execution_count": 5,
     "metadata": {},
     "output_type": "execute_result"
    },
    {
     "data": {
      "image/png": "[encoded data removed]",
      "text/plain": [
       "<Figure size 1008x432 with 1 Axes>"
      ]
     },
     "metadata": {
      "needs_background": "light"
     },
     "output_type": "display_data"
    }
   ],
   "source": [
    "train['RELATIONS_NUM'] = 0\n",
    "train['REPLACED_RELATION'] = ''\n",
    "index_CORE_RELATIONS = train.columns.get_loc(\"CORE RELATIONS\")\n",
    "index_RELATIONS_NUM = train.columns.get_loc(\"RELATIONS_NUM\")\n",
    "index_REPLACED_RELATION = train.columns.get_loc(\"REPLACED_RELATION\")\n",
    "\n",
    "## creat relations_counts and multi_relations_counts\n",
    "relations_counts = {}\n",
    "multi_relations_counts = {}\n",
    "for index, row in train.iterrows():\n",
    "\n",
    "    relations = row['CORE RELATIONS'].split()\n",
    "    train.iat[index,index_RELATIONS_NUM] = len(relations)\n",
    "    \n",
    "    # multi_relations_counts\n",
    "    if len(relations) > 1:\n",
    "        tuple_relations = tuple(sorted(relations))\n",
    "        if tuple_relations not in multi_relations_counts:\n",
    "            multi_relations_counts[tuple_relations] = 1\n",
    "        else:\n",
    "            multi_relations_counts[tuple_relations] += 1        \n",
    "\n",
    "    # multi_relations_counts\n",
    "    for word in relations:\n",
    "        if word not in relations_counts:\n",
    "            relations_counts[word] = 1\n",
    "        else:\n",
    "            relations_counts[word] += 1\n",
    "            \n",
    "# draw statistics graph\n",
    "plt.figure(figsize=(14, 6));\n",
    "g = sns.countplot(x='RELATIONS_NUM', data=train);\n",
    "plt.title('nums of relations');\n",
    "ax=g.axes\n",
    "for p in ax.patches:\n",
    "     ax.annotate(f\"{p.get_height() * 100 / train.shape[0]:.2f}%\", (p.get_x() + p.get_width() / 2., p.get_height()),\n",
    "         ha='center', va='center', fontsize=11, color='gray', rotation=0, xytext=(0, 10),\n",
    "         textcoords='offset points')\n",
    "        \n",
    "## creat replace_relations\n",
    "replace_relations = {}\n",
    "for words in multi_relations_counts:\n",
    "    words_counts = []\n",
    "    for i in range(len(words)):\n",
    "        words_counts.append(relations_counts[words[i]])\n",
    "    m = max(words_counts)# chose max has better score but chose min  has diversity!\n",
    "    for x, y in enumerate(words_counts):\n",
    "        if y == m:\n",
    "            replace_relations[words] = words[x]\n",
    "            \n",
    "## update on pandas           \n",
    "for index, row in train.iterrows():\n",
    "    relations = row['CORE RELATIONS'].split()\n",
    "    tuple_relations = tuple(sorted(relations))\n",
    "    if tuple_relations in replace_relations:\n",
    "        train.iat[index,index_REPLACED_RELATION] = replace_relations[tuple_relations]\n",
    "    else:\n",
    "        train.iat[index,index_REPLACED_RELATION] = train.iat[index,index_CORE_RELATIONS]\n",
    "\n",
    "train.head()"
   ]
  },
  {
   "cell_type": "code",
   "execution_count": 10,
   "metadata": {
    "colab": {
     "base_uri": "https://localhost:8080/",
     "height": 68
    },
    "colab_type": "code",
    "id": "B1FyPgBPMQ-B",
    "outputId": "8cb09a27-71dd-436d-eef1-e5e04d98b2f7"
   },
   "outputs": [
    {
     "name": "stdout",
     "output_type": "stream",
     "text": [
      "relations dictionay size : 46\n",
      "multi_relations dictionay size : 93\n",
      "replace dictionay size : 93\n"
     ]
    }
   ],
   "source": [
    "print('relations dictionay size : ' + str(len(relations_counts)))\n",
    "print('multi_relations dictionay size : ' + str(len(multi_relations_counts)))\n",
    "print('replace dictionay size : ' + str(len(replace_relations)))"
   ]
  },
  {
   "cell_type": "code",
   "execution_count": 11,
   "metadata": {},
   "outputs": [
    {
     "name": "stdout",
     "output_type": "stream",
     "text": [
      "Requirement already satisfied: xlsxwriter in /opt/anaconda3/lib/python3.7/site-packages (1.2.1)\n",
      "Note: you may need to restart the kernel to use updated packages.\n"
     ]
    }
   ],
   "source": [
    "pip install xlsxwriter"
   ]
  },
  {
   "cell_type": "code",
   "execution_count": 12,
   "metadata": {
    "colab": {},
    "colab_type": "code",
    "id": "GT0PQqh_MQ-J"
   },
   "outputs": [],
   "source": [
    "##  show multi_relations_counts in sorted version\n",
    "\n",
    "# {k: v for k, v in sorted(relations_counts.items(), key=lambda item: item[1],reverse = True)}\n",
    "import xlsxwriter\n",
    "\n",
    "workbook = xlsxwriter.Workbook('data.xlsx')\n",
    "worksheet = workbook.add_worksheet()\n",
    "\n",
    "d = relations_counts\n",
    "row = 0\n",
    "col = 0\n",
    "\n",
    "for k, v in sorted(relations_counts.items(), key=lambda item: item[1],reverse = True):\n",
    "    worksheet.write(row, col, k)\n",
    "#     for item in d[key]:\n",
    "    worksheet.write(row, col + 1, v)\n",
    "    row += 1\n",
    "\n",
    "workbook.close()"
   ]
  },
  {
   "cell_type": "code",
   "execution_count": 13,
   "metadata": {
    "colab": {},
    "colab_type": "code",
    "id": "0l36Ei-tytkr"
   },
   "outputs": [],
   "source": [
    "## ENCODER Example\n",
    "\n",
    "# from numpy import array\n",
    "# from numpy import argmax\n",
    "# from sklearn.preprocessing import LabelEncoder\n",
    "# from sklearn.preprocessing import OneHotEncoder\n",
    "# # define example\n",
    "# data = ['cold', 'cold', 'warm', 'cold', 'hot', 'hot', 'warm', 'cold', \n",
    "# 'warm', 'hot']\n",
    "# values = array(data)\n",
    "# print (\"Data: \", values)\n",
    "# # integer encode\n",
    "# label_encoder = LabelEncoder()\n",
    "# integer_encoded = label_encoder.fit_transform(values)\n",
    "# print (\"Label Encoder:\" ,integer_encoded)\n",
    "\n",
    "# # onehot encode\n",
    "# onehot_encoder = OneHotEncoder(sparse=False)\n",
    "# integer_encoded = integer_encoded.reshape(len(integer_encoded), 1)\n",
    "# onehot_encoded = onehot_encoder.fit_transform(integer_encoded)\n",
    "# print (\"OneHot Encoder:\", onehot_encoded)\n",
    "\n",
    "# #Binary encode\n",
    "# lb = LabelBinarizer()\n",
    "# print (\"Label Binarizer:\", lb.fit_transform(values))"
   ]
  },
  {
   "cell_type": "markdown",
   "metadata": {
    "colab_type": "text",
    "id": "PJ_SNt5Pytku"
   },
   "source": [
    "## ENCODER\n",
    "* Data:  ['cold' 'cold' 'warm' 'cold' 'hot' 'hot' 'warm' 'cold' 'warm' 'hot']\n",
    "    * Label Encoder: [0 0 2 0 1 1 2 0 2 1]\n",
    "    * OneHot Encoder: [[1. 0. 0.]\n",
    " [1. 0. 0.]\n",
    " [0. 0. 1.]\n",
    " [1. 0. 0.]\n",
    " [0. 1. 0.]\n",
    " [0. 1. 0.]\n",
    " [0. 0. 1.]\n",
    " [1. 0. 0.]\n",
    " [0. 0. 1.]\n",
    " [0. 1. 0.]]\n",
    "    * Label Binarizer: [[1 0 0]\n",
    " [1 0 0]\n",
    " [0 0 1]\n",
    " [1 0 0]\n",
    " [0 1 0]\n",
    " [0 1 0]\n",
    " [0 0 1]\n",
    " [1 0 0]\n",
    " [0 0 1]\n",
    " [0 1 0]]\n",
    " \n",
    " In fact, you do not need to encode label for `LogisticRegression`, the model will handle the multilabel by itself (add **solver = 'lbfgs',multi_class='auto'**)."
   ]
  },
  {
   "cell_type": "code",
   "execution_count": 14,
   "metadata": {
    "colab": {},
    "colab_type": "code",
    "id": "mor9cN8hMQ-p"
   },
   "outputs": [
    {
     "name": "stdout",
     "output_type": "stream",
     "text": [
      "Accuracy: 0.8532934131736527\n"
     ]
    }
   ],
   "source": [
    "\n",
    "sentences = train['UTTERANCE'].values\n",
    "y = train['REPLACED_RELATION'].values\n",
    "\n",
    "LE_encoder = LabelEncoder().fit(y)\n",
    "integer_encoded = LE_encoder.transform(y)\n",
    "\n",
    "LB_encoder = LabelBinarizer().fit(y)\n",
    "y_LB = LB_encoder.fit_transform(y)\n",
    "\n",
    "integer_encoded = integer_encoded.reshape(len(integer_encoded), 1)\n",
    "OH_encoder = OneHotEncoder(sparse=False,categories='auto').fit(integer_encoded)\n",
    "y_OH = OH_encoder.fit_transform(integer_encoded)\n",
    "vectorizer = CountVectorizer()\n",
    "vectorizer.fit(sentences)\n",
    "\n",
    "\n",
    "\n",
    "\n",
    "sentences_train, sentences_val, y_train, y_val, y_LB_train, y_LB_val, y_OH_train, y_OH_val \\\n",
    "            = train_test_split(sentences, y, y_LB, y_OH, test_size=0.2, random_state=1000)\n",
    "\n",
    "\n",
    "X_train = vectorizer.transform(sentences_train)\n",
    "X_val  = vectorizer.transform(sentences_val)\n",
    "classifier = LogisticRegression(solver = 'lbfgs',multi_class='auto')\n",
    "classifier.fit(X_train, y_train)\n",
    "score = classifier.score(X_val, y_val)\n",
    "\n",
    "\n",
    "print(\"Accuracy:\", score)\n"
   ]
  },
  {
   "cell_type": "markdown",
   "metadata": {
    "colab_type": "text",
    "id": "erJX5FdAytk5"
   },
   "source": [
    "`CountVectorizer` performs tokenization which separates the sentences into a set of **tokens**. It additionally removes punctuation and special characters and can apply other preprocessing to each word. If you want, you can use a custom tokenizer from the NLTK library with the CountVectorizer or use any number of the customizations which you can explore to improve the performance of your model."
   ]
  },
  {
   "cell_type": "code",
   "execution_count": 35,
   "metadata": {
    "colab": {},
    "colab_type": "code",
    "id": "qeXfTv95MQ-r"
   },
   "outputs": [
    {
     "name": "stdout",
     "output_type": "stream",
     "text": [
      "[0. 0. 0. 0. 0. 0. 0. 0. 0. 0. 0. 0. 0. 0. 0. 0. 0. 0. 0. 0. 1. 0. 0. 0.\n",
      " 0. 0. 0. 0. 0. 0. 0. 0. 0. 0. 0.]\n",
      "[[20]\n",
      " [20]\n",
      " [20]\n",
      " ...\n",
      " [ 3]\n",
      " [ 9]\n",
      " [ 3]]\n",
      "[0 0 0 0 0 0 0 0 0 0 0 0 0 0 0 0 0 0 0 0 1 0 0 0 0 0 0 0 0 0 0 0 0 0 0]\n"
     ]
    }
   ],
   "source": [
    "print(y_OH[1])\n",
    "print(integer_encoded)\n",
    "print(y_LB[1])"
   ]
  },
  {
   "cell_type": "code",
   "execution_count": 15,
   "metadata": {},
   "outputs": [],
   "source": [
    "# pip install -U imbalanced-learn"
   ]
  },
  {
   "cell_type": "code",
   "execution_count": 16,
   "metadata": {},
   "outputs": [],
   "source": [
    "# from imblearn.over_sampling import SMOTE\n",
    "# smote = SMOTE('minority')\n",
    "# X_train\n",
    "# X_sm, y_sm = smote.fit_sample(X_train, y_train)\n",
    "# print(X_sm.shape, y_sm.shape)\n"
   ]
  },
  {
   "cell_type": "markdown",
   "metadata": {
    "colab_type": "text",
    "id": "0fAOMfNDytlE"
   },
   "source": [
    "The classification model we are going to use is the logistic regression which is a simple yet powerful linear model that is mathematically speaking in fact a form of regression between 0 and 1 based on the input feature vector. By specifying a cutoff value (by default 0.5), the regression model is used for classification. "
   ]
  },
  {
   "cell_type": "code",
   "execution_count": null,
   "metadata": {
    "colab": {
     "base_uri": "https://localhost:8080/",
     "height": 34
    },
    "colab_type": "code",
    "id": "H1B5CiDDMQ-u",
    "outputId": "ac77e89c-b0b5-46b3-bc10-4aa21d62c6db"
   },
   "outputs": [],
   "source": []
  },
  {
   "cell_type": "markdown",
   "metadata": {
    "colab_type": "text",
    "id": "EyHAkShIytlH"
   },
   "source": [
    "## Output to csv file"
   ]
  },
  {
   "cell_type": "code",
   "execution_count": 17,
   "metadata": {
    "colab": {
     "base_uri": "https://localhost:8080/",
     "height": 204
    },
    "colab_type": "code",
    "id": "YSdEeopqMQ-y",
    "outputId": "5d17f23a-5754-48ca-eb18-233a7d3885d3"
   },
   "outputs": [
    {
     "name": "stdout",
     "output_type": "stream",
     "text": [
      "mkdir: results: File exists\r\n"
     ]
    },
    {
     "data": {
      "text/html": [
       "<div>\n",
       "<style scoped>\n",
       "    .dataframe tbody tr th:only-of-type {\n",
       "        vertical-align: middle;\n",
       "    }\n",
       "\n",
       "    .dataframe tbody tr th {\n",
       "        vertical-align: top;\n",
       "    }\n",
       "\n",
       "    .dataframe thead th {\n",
       "        text-align: right;\n",
       "    }\n",
       "</style>\n",
       "<table border=\"1\" class=\"dataframe\">\n",
       "  <thead>\n",
       "    <tr style=\"text-align: right;\">\n",
       "      <th></th>\n",
       "      <th>ID</th>\n",
       "      <th>CORE RELATIONS</th>\n",
       "    </tr>\n",
       "  </thead>\n",
       "  <tbody>\n",
       "    <tr>\n",
       "      <td>1079</td>\n",
       "      <td>1079</td>\n",
       "      <td>NO_REL</td>\n",
       "    </tr>\n",
       "    <tr>\n",
       "      <td>1080</td>\n",
       "      <td>1080</td>\n",
       "      <td>movie.starring.actor</td>\n",
       "    </tr>\n",
       "    <tr>\n",
       "      <td>1081</td>\n",
       "      <td>1081</td>\n",
       "      <td>movie.production_companies</td>\n",
       "    </tr>\n",
       "    <tr>\n",
       "      <td>1082</td>\n",
       "      <td>1082</td>\n",
       "      <td>movie.language</td>\n",
       "    </tr>\n",
       "    <tr>\n",
       "      <td>1083</td>\n",
       "      <td>1083</td>\n",
       "      <td>movie.country</td>\n",
       "    </tr>\n",
       "  </tbody>\n",
       "</table>\n",
       "</div>"
      ],
      "text/plain": [
       "        ID              CORE RELATIONS\n",
       "1079  1079                      NO_REL\n",
       "1080  1080        movie.starring.actor\n",
       "1081  1081  movie.production_companies\n",
       "1082  1082              movie.language\n",
       "1083  1083               movie.country"
      ]
     },
     "execution_count": 17,
     "metadata": {},
     "output_type": "execute_result"
    }
   ],
   "source": [
    "!mkdir results\n",
    "X_test = vectorizer.transform(test['UTTERANCE'].values)\n",
    "submission_df = submission[[\"ID\"]]\n",
    "submission_df[\"CORE RELATIONS\"] = classifier.predict(X_test)\n",
    "submission_df.to_csv(\"./results/submission_logisticRegression.csv\", index=False)\n",
    "submission_df.tail()"
   ]
  },
  {
   "cell_type": "markdown",
   "metadata": {
    "colab": {},
    "colab_type": "code",
    "id": "l-V2Vsu0MQ-0"
   },
   "source": [
    "## NN model"
   ]
  },
  {
   "cell_type": "code",
   "execution_count": 18,
   "metadata": {
    "colab": {
     "base_uri": "https://localhost:8080/",
     "height": 1000
    },
    "colab_type": "code",
    "id": "Kz_MXEhZMQ-7",
    "outputId": "54f97a66-2132-402a-8299-6eb6fbf4a424"
   },
   "outputs": [
    {
     "name": "stdout",
     "output_type": "stream",
     "text": [
      "WARNING:tensorflow:From /opt/anaconda3/lib/python3.7/site-packages/keras/backend/tensorflow_backend.py:74: The name tf.get_default_graph is deprecated. Please use tf.compat.v1.get_default_graph instead.\n",
      "\n",
      "WARNING:tensorflow:From /opt/anaconda3/lib/python3.7/site-packages/keras/backend/tensorflow_backend.py:517: The name tf.placeholder is deprecated. Please use tf.compat.v1.placeholder instead.\n",
      "\n",
      "WARNING:tensorflow:From /opt/anaconda3/lib/python3.7/site-packages/keras/backend/tensorflow_backend.py:4138: The name tf.random_uniform is deprecated. Please use tf.random.uniform instead.\n",
      "\n",
      "WARNING:tensorflow:From /opt/anaconda3/lib/python3.7/site-packages/keras/optimizers.py:790: The name tf.train.Optimizer is deprecated. Please use tf.compat.v1.train.Optimizer instead.\n",
      "\n",
      "WARNING:tensorflow:From /opt/anaconda3/lib/python3.7/site-packages/keras/backend/tensorflow_backend.py:3295: The name tf.log is deprecated. Please use tf.math.log instead.\n",
      "\n",
      "_________________________________________________________________\n",
      "Layer (type)                 Output Shape              Param #   \n",
      "=================================================================\n",
      "dense_1 (Dense)              (None, 100)               169400    \n",
      "_________________________________________________________________\n",
      "dense_2 (Dense)              (None, 35)                3535      \n",
      "=================================================================\n",
      "Total params: 172,935\n",
      "Trainable params: 172,935\n",
      "Non-trainable params: 0\n",
      "_________________________________________________________________\n",
      "WARNING:tensorflow:From /opt/anaconda3/lib/python3.7/site-packages/tensorflow_core/python/ops/math_grad.py:1424: where (from tensorflow.python.ops.array_ops) is deprecated and will be removed in a future version.\n",
      "Instructions for updating:\n",
      "Use tf.where in 2.0, which has the same broadcast rule as np.where\n",
      "WARNING:tensorflow:From /opt/anaconda3/lib/python3.7/site-packages/keras/backend/tensorflow_backend.py:986: The name tf.assign_add is deprecated. Please use tf.compat.v1.assign_add instead.\n",
      "\n",
      "WARNING:tensorflow:From /opt/anaconda3/lib/python3.7/site-packages/keras/backend/tensorflow_backend.py:973: The name tf.assign is deprecated. Please use tf.compat.v1.assign instead.\n",
      "\n",
      "WARNING:tensorflow:From /opt/anaconda3/lib/python3.7/site-packages/keras/backend/tensorflow_backend.py:2741: The name tf.Session is deprecated. Please use tf.compat.v1.Session instead.\n",
      "\n",
      "Train on 2670 samples, validate on 668 samples\n",
      "Epoch 1/50\n",
      "WARNING:tensorflow:From /opt/anaconda3/lib/python3.7/site-packages/keras/backend/tensorflow_backend.py:174: The name tf.get_default_session is deprecated. Please use tf.compat.v1.get_default_session instead.\n",
      "\n",
      "WARNING:tensorflow:From /opt/anaconda3/lib/python3.7/site-packages/keras/backend/tensorflow_backend.py:181: The name tf.ConfigProto is deprecated. Please use tf.compat.v1.ConfigProto instead.\n",
      "\n",
      "WARNING:tensorflow:From /opt/anaconda3/lib/python3.7/site-packages/keras/backend/tensorflow_backend.py:190: The name tf.global_variables is deprecated. Please use tf.compat.v1.global_variables instead.\n",
      "\n",
      "WARNING:tensorflow:From /opt/anaconda3/lib/python3.7/site-packages/keras/backend/tensorflow_backend.py:199: The name tf.is_variable_initialized is deprecated. Please use tf.compat.v1.is_variable_initialized instead.\n",
      "\n",
      "WARNING:tensorflow:From /opt/anaconda3/lib/python3.7/site-packages/keras/backend/tensorflow_backend.py:206: The name tf.variables_initializer is deprecated. Please use tf.compat.v1.variables_initializer instead.\n",
      "\n",
      "2670/2670 [==============================] - 3s 1ms/step - loss: 2.5205 - acc: 0.4026 - val_loss: 1.5932 - val_acc: 0.6796\n",
      "\n",
      "Epoch 00001: val_acc improved from -inf to 0.67964, saving model to ./model.hdf_MLP\n",
      "Epoch 2/50\n",
      "2670/2670 [==============================] - 2s 820us/step - loss: 1.1604 - acc: 0.7588 - val_loss: 0.9562 - val_acc: 0.7829\n",
      "\n",
      "Epoch 00002: val_acc improved from 0.67964 to 0.78293, saving model to ./model.hdf_MLP\n",
      "Epoch 3/50\n",
      "2670/2670 [==============================] - 2s 803us/step - loss: 0.6933 - acc: 0.8588 - val_loss: 0.7336 - val_acc: 0.8368\n",
      "\n",
      "Epoch 00003: val_acc improved from 0.78293 to 0.83683, saving model to ./model.hdf_MLP\n",
      "Epoch 4/50\n",
      "2670/2670 [==============================] - 3s 937us/step - loss: 0.4608 - acc: 0.9086 - val_loss: 0.6355 - val_acc: 0.8518\n",
      "\n",
      "Epoch 00004: val_acc improved from 0.83683 to 0.85180, saving model to ./model.hdf_MLP\n",
      "Epoch 5/50\n",
      "2670/2670 [==============================] - 3s 1ms/step - loss: 0.3226 - acc: 0.9378 - val_loss: 0.5797 - val_acc: 0.8578\n",
      "\n",
      "Epoch 00005: val_acc improved from 0.85180 to 0.85778, saving model to ./model.hdf_MLP\n",
      "Epoch 6/50\n",
      "2670/2670 [==============================] - 2s 866us/step - loss: 0.2364 - acc: 0.9498 - val_loss: 0.5413 - val_acc: 0.8563\n",
      "\n",
      "Epoch 00006: val_acc did not improve from 0.85778\n",
      "Epoch 7/50\n",
      "2670/2670 [==============================] - 2s 895us/step - loss: 0.1776 - acc: 0.9648 - val_loss: 0.5236 - val_acc: 0.8608\n",
      "\n",
      "Epoch 00007: val_acc improved from 0.85778 to 0.86078, saving model to ./model.hdf_MLP\n",
      "Epoch 8/50\n",
      "2670/2670 [==============================] - 3s 1ms/step - loss: 0.1342 - acc: 0.9768 - val_loss: 0.5194 - val_acc: 0.8578\n",
      "\n",
      "Epoch 00008: val_acc did not improve from 0.86078\n",
      "Epoch 9/50\n",
      "2670/2670 [==============================] - 3s 1ms/step - loss: 0.1064 - acc: 0.9809 - val_loss: 0.5205 - val_acc: 0.8593\n",
      "\n",
      "Epoch 00009: val_acc did not improve from 0.86078\n",
      "Epoch 10/50\n",
      "2670/2670 [==============================] - 2s 883us/step - loss: 0.0850 - acc: 0.9843 - val_loss: 0.5208 - val_acc: 0.8593\n",
      "\n",
      "Epoch 00010: val_acc did not improve from 0.86078\n",
      "Epoch 11/50\n",
      "2670/2670 [==============================] - 3s 1ms/step - loss: 0.0698 - acc: 0.9843 - val_loss: 0.5304 - val_acc: 0.8623\n",
      "\n",
      "Epoch 00011: val_acc improved from 0.86078 to 0.86228, saving model to ./model.hdf_MLP\n",
      "Epoch 12/50\n",
      "2670/2670 [==============================] - 3s 995us/step - loss: 0.0576 - acc: 0.9880 - val_loss: 0.5260 - val_acc: 0.8638\n",
      "\n",
      "Epoch 00012: val_acc improved from 0.86228 to 0.86377, saving model to ./model.hdf_MLP\n",
      "Epoch 13/50\n",
      "2670/2670 [==============================] - 2s 890us/step - loss: 0.0485 - acc: 0.9899 - val_loss: 0.5395 - val_acc: 0.8638\n",
      "\n",
      "Epoch 00013: val_acc did not improve from 0.86377\n",
      "Epoch 14/50\n",
      "2670/2670 [==============================] - 2s 860us/step - loss: 0.0405 - acc: 0.9929 - val_loss: 0.5547 - val_acc: 0.8638\n",
      "\n",
      "Epoch 00014: val_acc improved from 0.86377 to 0.86377, saving model to ./model.hdf_MLP\n",
      "Epoch 15/50\n",
      "2670/2670 [==============================] - 2s 865us/step - loss: 0.0347 - acc: 0.9940 - val_loss: 0.5643 - val_acc: 0.8638\n",
      "\n",
      "Epoch 00015: val_acc did not improve from 0.86377\n",
      "Epoch 16/50\n",
      "2670/2670 [==============================] - 2s 848us/step - loss: 0.0302 - acc: 0.9940 - val_loss: 0.5794 - val_acc: 0.8578\n",
      "\n",
      "Epoch 00016: val_acc did not improve from 0.86377\n",
      "Epoch 17/50\n",
      "2670/2670 [==============================] - 2s 881us/step - loss: 0.0262 - acc: 0.9955 - val_loss: 0.5939 - val_acc: 0.8623\n",
      "\n",
      "Epoch 00017: val_acc did not improve from 0.86377\n",
      "Epoch 18/50\n",
      "2670/2670 [==============================] - 2s 858us/step - loss: 0.0224 - acc: 0.9955 - val_loss: 0.5973 - val_acc: 0.8638\n",
      "\n",
      "Epoch 00018: val_acc did not improve from 0.86377\n"
     ]
    }
   ],
   "source": [
    "from keras.models import Sequential\n",
    "from keras import layers\n",
    "from sklearn.utils import class_weight\n",
    "input_dim = X_train.shape[1]  # Number of features\n",
    "\n",
    "class_weight = class_weight.compute_class_weight('balanced' ,np.unique(y_train) ,y_train)\n",
    "\n",
    "filepath = \"./model.hdf_MLP\"\n",
    "checkpoint = ModelCheckpoint(filepath, monitor='val_acc', verbose=1, save_best_only=True, mode='max')\n",
    "earlystopped = EarlyStopping(monitor='val_loss', mode='min', patience=10)\n",
    "callbacks_list = [earlystopped, checkpoint]\n",
    "\n",
    "model = Sequential()\n",
    "# model.add(layers.Dense(200, input_dim=input_dim, activation='relu'))\n",
    "model.add(layers.Dense(100, input_dim=input_dim, activation='relu'))\n",
    "model.add(layers.Dense(35, activation='softmax'))# 35 for max; 44 for using min as choice in replace_relation\n",
    "model.compile(loss='categorical_crossentropy', \n",
    "              optimizer='adam', \n",
    "              metrics=['accuracy'])\n",
    "model.summary()\n",
    "history = model.fit(X_train, y_OH_train,\n",
    "                    epochs=50,\n",
    "                    verbose=True,\n",
    "                    validation_data=(X_val, y_OH_val),\n",
    "                    batch_size=10,\n",
    "                    class_weight=class_weight,\n",
    "                    callbacks=callbacks_list)"
   ]
  },
  {
   "cell_type": "code",
   "execution_count": 36,
   "metadata": {
    "colab": {
     "base_uri": "https://localhost:8080/",
     "height": 51
    },
    "colab_type": "code",
    "id": "3wrO4LWLytla",
    "outputId": "1abfe6c2-ddba-453a-8e6b-ccd8c722bdd9"
   },
   "outputs": [
    {
     "name": "stdout",
     "output_type": "stream",
     "text": [
      "Training Accuracy: 0.9978\n",
      "Testing Accuracy:  0.8638\n"
     ]
    }
   ],
   "source": [
    "loss, accuracy = model.evaluate(X_train, y_OH_train, verbose=False)\n",
    "print(\"Training Accuracy: {:.4f}\".format(accuracy))\n",
    "loss, accuracy = model.evaluate(X_val, y_OH_val, verbose=False)\n",
    "print(\"Testing Accuracy:  {:.4f}\".format(accuracy))"
   ]
  },
  {
   "cell_type": "code",
   "execution_count": 37,
   "metadata": {
    "colab": {},
    "colab_type": "code",
    "id": "Stggh6b8MQ-9"
   },
   "outputs": [],
   "source": [
    "def plot_history(history):\n",
    "    acc = history.history['acc']\n",
    "    val_acc = history.history['val_acc']\n",
    "    loss = history.history['loss']\n",
    "    val_loss = history.history['val_loss']\n",
    "    x = range(1, len(acc) + 1)\n",
    "\n",
    "    plt.figure(figsize=(12, 5))\n",
    "    plt.subplot(1, 2, 1)\n",
    "    plt.plot(x, acc, 'b', label='Training acc')\n",
    "    plt.plot(x, val_acc, 'r', label='Validation acc')\n",
    "    plt.title('Training and validation accuracy')\n",
    "    plt.legend()\n",
    "    plt.subplot(1, 2, 2)\n",
    "    plt.plot(x, loss, 'b', label='Training loss')\n",
    "    plt.plot(x, val_loss, 'r', label='Validation loss')\n",
    "    plt.title('Training and validation loss')\n",
    "    plt.legend()"
   ]
  },
  {
   "cell_type": "code",
   "execution_count": 38,
   "metadata": {
    "colab": {
     "base_uri": "https://localhost:8080/",
     "height": 336
    },
    "colab_type": "code",
    "id": "SsZjf91TMQ-_",
    "outputId": "381c47a8-41fe-4419-841e-fc35485b6fae"
   },
   "outputs": [
    {
     "data": {
      "image/png": "[encoded data removed]",
      "text/plain": [
       "<Figure size 864x360 with 2 Axes>"
      ]
     },
     "metadata": {
      "needs_background": "light"
     },
     "output_type": "display_data"
    }
   ],
   "source": [
    "plot_history(history)"
   ]
  },
  {
   "cell_type": "code",
   "execution_count": 39,
   "metadata": {
    "colab": {
     "base_uri": "https://localhost:8080/",
     "height": 204
    },
    "colab_type": "code",
    "id": "PJbSx7FVMQ_C",
    "outputId": "f71738bf-a18d-4e0d-b5af-98007b2771e9"
   },
   "outputs": [
    {
     "data": {
      "text/html": [
       "<div>\n",
       "<style scoped>\n",
       "    .dataframe tbody tr th:only-of-type {\n",
       "        vertical-align: middle;\n",
       "    }\n",
       "\n",
       "    .dataframe tbody tr th {\n",
       "        vertical-align: top;\n",
       "    }\n",
       "\n",
       "    .dataframe thead th {\n",
       "        text-align: right;\n",
       "    }\n",
       "</style>\n",
       "<table border=\"1\" class=\"dataframe\">\n",
       "  <thead>\n",
       "    <tr style=\"text-align: right;\">\n",
       "      <th></th>\n",
       "      <th>ID</th>\n",
       "      <th>CORE RELATIONS</th>\n",
       "    </tr>\n",
       "  </thead>\n",
       "  <tbody>\n",
       "    <tr>\n",
       "      <td>1079</td>\n",
       "      <td>1079</td>\n",
       "      <td>movie.trailer</td>\n",
       "    </tr>\n",
       "    <tr>\n",
       "      <td>1080</td>\n",
       "      <td>1080</td>\n",
       "      <td>movie.rating</td>\n",
       "    </tr>\n",
       "    <tr>\n",
       "      <td>1081</td>\n",
       "      <td>1081</td>\n",
       "      <td>movie.production_companies</td>\n",
       "    </tr>\n",
       "    <tr>\n",
       "      <td>1082</td>\n",
       "      <td>1082</td>\n",
       "      <td>movie.initial_release_date</td>\n",
       "    </tr>\n",
       "    <tr>\n",
       "      <td>1083</td>\n",
       "      <td>1083</td>\n",
       "      <td>movie.country</td>\n",
       "    </tr>\n",
       "  </tbody>\n",
       "</table>\n",
       "</div>"
      ],
      "text/plain": [
       "        ID              CORE RELATIONS\n",
       "1079  1079               movie.trailer\n",
       "1080  1080                movie.rating\n",
       "1081  1081  movie.production_companies\n",
       "1082  1082  movie.initial_release_date\n",
       "1083  1083               movie.country"
      ]
     },
     "execution_count": 39,
     "metadata": {},
     "output_type": "execute_result"
    }
   ],
   "source": [
    "model.load_weights(\"./model.hdf_MLP\")\n",
    "\n",
    "Predictions = OH_encoder.inverse_transform(model.predict(X_test)).ravel()\n",
    "submission_df[\"CORE RELATIONS\"] = LE_encoder.inverse_transform(Predictions)\n",
    "submission_df.to_csv(\"./results/submission_keras_MLP.csv\", index=False)\n",
    "submission_df.tail()"
   ]
  },
  {
   "cell_type": "code",
   "execution_count": 40,
   "metadata": {
    "colab": {},
    "colab_type": "code",
    "id": "3rVS-tpRytlq"
   },
   "outputs": [],
   "source": [
    "from keras.preprocessing.text import Tokenizer\n",
    "from keras.preprocessing.sequence import pad_sequences\n",
    "from keras.wrappers.scikit_learn import KerasClassifier"
   ]
  },
  {
   "cell_type": "code",
   "execution_count": 43,
   "metadata": {
    "colab": {
     "base_uri": "https://localhost:8080/",
     "height": 136
    },
    "colab_type": "code",
    "id": "YOaEqtTDMQ_F",
    "outputId": "b00ab793-9c97-45b3-c7ad-0793243a2caf"
   },
   "outputs": [
    {
     "name": "stdout",
     "output_type": "stream",
     "text": [
      "give me more details about the producer ray stark\n",
      "[ 86   7 115 129  19   1  62 206 220   0   0   0   0   0   0]\n"
     ]
    }
   ],
   "source": [
    "tokenizer = Tokenizer(num_words=1000)\n",
    "tokenizer.fit_on_texts(sentences)\n",
    "\n",
    "X_train = tokenizer.texts_to_sequences(sentences_train)\n",
    "X_val = tokenizer.texts_to_sequences(sentences_val)\n",
    "\n",
    "vocab_size = len(tokenizer.word_index) + 1  # Adding 1 because of reserved 0 index\n",
    "maxlen = 15\n",
    "\n",
    "X_train = pad_sequences(X_train, padding='post', maxlen=maxlen)\n",
    "X_val = pad_sequences(X_val, padding='post', maxlen=maxlen)\n",
    "print(sentences_train[2])\n",
    "print(X_train[2])\n"
   ]
  },
  {
   "cell_type": "code",
   "execution_count": 44,
   "metadata": {
    "colab": {},
    "colab_type": "code",
    "id": "ueOW1g5-MQ_I"
   },
   "outputs": [
    {
     "name": "stdout",
     "output_type": "stream",
     "text": [
      "[ 46 107  32   0   0   0   0   0   0   0   0   0   0   0   0]\n"
     ]
    }
   ],
   "source": [
    "\n",
    "print(X_train[0])"
   ]
  },
  {
   "cell_type": "code",
   "execution_count": 26,
   "metadata": {
    "colab": {
     "base_uri": "https://localhost:8080/",
     "height": 289
    },
    "colab_type": "code",
    "id": "ImrqlvRnMQ_L",
    "outputId": "9ac31d9f-400a-4c05-f279-39a712e9132a"
   },
   "outputs": [
    {
     "name": "stdout",
     "output_type": "stream",
     "text": [
      "_________________________________________________________________\n",
      "Layer (type)                 Output Shape              Param #   \n",
      "=================================================================\n",
      "embedding_2 (Embedding)      (None, 15, 128)           226176    \n",
      "_________________________________________________________________\n",
      "global_max_pooling1d_2 (Glob (None, 128)               0         \n",
      "_________________________________________________________________\n",
      "dense_6 (Dense)              (None, 35)                4515      \n",
      "=================================================================\n",
      "Total params: 230,691\n",
      "Trainable params: 230,691\n",
      "Non-trainable params: 0\n",
      "_________________________________________________________________\n"
     ]
    }
   ],
   "source": [
    "embedding_dim = 100\n",
    "filepath = \"./model.hdf_embeding\"\n",
    "checkpoint = ModelCheckpoint(filepath, monitor='val_acc', verbose=1, save_best_only=True, mode='max')\n",
    "earlystopped = EarlyStopping(monitor='val_loss', mode='min', patience=10)\n",
    "callbacks_list = [earlystopped, checkpoint]\n",
    "# class_weight = class_weight.compute_class_weight('balanced' ,np.unique(y_train) ,y_train) \n",
    "model = Sequential()\n",
    "model.add(layers.Embedding(input_dim=vocab_size, \n",
    "                           output_dim=embedding_dim, \n",
    "                           input_length=maxlen))\n",
    "# model.add(layers.Flatten())\n",
    "model.add(layers.GlobalMaxPool1D())\n",
    "#Global max/average pooling takes the maximum/average of \n",
    "# all features whereas in the other case you have to define the pool size.\n",
    "# model.add(layers.Dense(200, activation='relu'))\n",
    "# model.add(layers.Dense(64, activation='relu'))\n",
    "model.add(layers.Dense(35, activation='softmax'))\n",
    "model.compile(optimizer='adam',\n",
    "              loss='categorical_crossentropy',\n",
    "              metrics=['accuracy'])\n",
    "model.summary()"
   ]
  },
  {
   "cell_type": "code",
   "execution_count": 27,
   "metadata": {
    "colab": {
     "base_uri": "https://localhost:8080/",
     "height": 34
    },
    "colab_type": "code",
    "id": "4KujlmPcytl_",
    "outputId": "f304dfd2-b17d-4022-c7c8-de67a0950b07"
   },
   "outputs": [
    {
     "data": {
      "text/plain": [
       "668"
      ]
     },
     "execution_count": 27,
     "metadata": {},
     "output_type": "execute_result"
    }
   ],
   "source": [
    "len(y_OH_val)"
   ]
  },
  {
   "cell_type": "code",
   "execution_count": 28,
   "metadata": {
    "colab": {
     "base_uri": "https://localhost:8080/",
     "height": 1000
    },
    "colab_type": "code",
    "id": "yVmcaUraMQ_N",
    "outputId": "4a915f9d-2930-4001-d2da-48cb3465f4ef"
   },
   "outputs": [
    {
     "name": "stdout",
     "output_type": "stream",
     "text": [
      "Train on 2670 samples, validate on 668 samples\n",
      "Epoch 1/50\n",
      "2670/2670 [==============================] - 4s 1ms/step - loss: 2.9363 - acc: 0.2139 - val_loss: 2.5380 - val_acc: 0.2964\n",
      "\n",
      "Epoch 00001: val_acc improved from -inf to 0.29641, saving model to ./model.hdf_embeding\n",
      "Epoch 2/50\n",
      "2670/2670 [==============================] - 2s 881us/step - loss: 2.1568 - acc: 0.4715 - val_loss: 1.7784 - val_acc: 0.6198\n",
      "\n",
      "Epoch 00002: val_acc improved from 0.29641 to 0.61976, saving model to ./model.hdf_embeding\n",
      "Epoch 3/50\n",
      "2670/2670 [==============================] - 2s 866us/step - loss: 1.3936 - acc: 0.7142 - val_loss: 1.2035 - val_acc: 0.7216\n",
      "\n",
      "Epoch 00003: val_acc improved from 0.61976 to 0.72156, saving model to ./model.hdf_embeding\n",
      "Epoch 4/50\n",
      "2670/2670 [==============================] - 2s 932us/step - loss: 0.9582 - acc: 0.7981 - val_loss: 0.9309 - val_acc: 0.8009\n",
      "\n",
      "Epoch 00004: val_acc improved from 0.72156 to 0.80090, saving model to ./model.hdf_embeding\n",
      "Epoch 5/50\n",
      "2670/2670 [==============================] - 2s 896us/step - loss: 0.7131 - acc: 0.8558 - val_loss: 0.7889 - val_acc: 0.8129\n",
      "\n",
      "Epoch 00005: val_acc improved from 0.80090 to 0.81287, saving model to ./model.hdf_embeding\n",
      "Epoch 6/50\n",
      "2670/2670 [==============================] - 3s 953us/step - loss: 0.5562 - acc: 0.8850 - val_loss: 0.7036 - val_acc: 0.8234\n",
      "\n",
      "Epoch 00006: val_acc improved from 0.81287 to 0.82335, saving model to ./model.hdf_embeding\n",
      "Epoch 7/50\n",
      "2670/2670 [==============================] - 3s 955us/step - loss: 0.4454 - acc: 0.9026 - val_loss: 0.6473 - val_acc: 0.8323\n",
      "\n",
      "Epoch 00007: val_acc improved from 0.82335 to 0.83234, saving model to ./model.hdf_embeding\n",
      "Epoch 8/50\n",
      "2670/2670 [==============================] - 3s 976us/step - loss: 0.3624 - acc: 0.9172 - val_loss: 0.6108 - val_acc: 0.8383\n",
      "\n",
      "Epoch 00008: val_acc improved from 0.83234 to 0.83832, saving model to ./model.hdf_embeding\n",
      "Epoch 9/50\n",
      "2670/2670 [==============================] - 3s 956us/step - loss: 0.2984 - acc: 0.9315 - val_loss: 0.5883 - val_acc: 0.8383\n",
      "\n",
      "Epoch 00009: val_acc did not improve from 0.83832\n",
      "Epoch 10/50\n",
      "2670/2670 [==============================] - 3s 946us/step - loss: 0.2488 - acc: 0.9438 - val_loss: 0.5707 - val_acc: 0.8473\n",
      "\n",
      "Epoch 00010: val_acc improved from 0.83832 to 0.84731, saving model to ./model.hdf_embeding\n",
      "Epoch 11/50\n",
      "2670/2670 [==============================] - 3s 1ms/step - loss: 0.2096 - acc: 0.9551 - val_loss: 0.5628 - val_acc: 0.8458\n",
      "\n",
      "Epoch 00011: val_acc did not improve from 0.84731\n",
      "Epoch 12/50\n",
      "2670/2670 [==============================] - 3s 954us/step - loss: 0.1775 - acc: 0.9629 - val_loss: 0.5554 - val_acc: 0.8533\n",
      "\n",
      "Epoch 00012: val_acc improved from 0.84731 to 0.85329, saving model to ./model.hdf_embeding\n",
      "Epoch 13/50\n",
      "2670/2670 [==============================] - 2s 929us/step - loss: 0.1516 - acc: 0.9670 - val_loss: 0.5514 - val_acc: 0.8518\n",
      "\n",
      "Epoch 00013: val_acc did not improve from 0.85329\n",
      "Epoch 14/50\n",
      "2670/2670 [==============================] - 3s 982us/step - loss: 0.1300 - acc: 0.9715 - val_loss: 0.5472 - val_acc: 0.8578\n",
      "\n",
      "Epoch 00014: val_acc improved from 0.85329 to 0.85778, saving model to ./model.hdf_embeding\n",
      "Epoch 15/50\n",
      "2670/2670 [==============================] - 2s 932us/step - loss: 0.1125 - acc: 0.9768 - val_loss: 0.5460 - val_acc: 0.8563\n",
      "\n",
      "Epoch 00015: val_acc did not improve from 0.85778\n",
      "Epoch 16/50\n",
      "2670/2670 [==============================] - 2s 922us/step - loss: 0.0978 - acc: 0.9790 - val_loss: 0.5496 - val_acc: 0.8578\n",
      "\n",
      "Epoch 00016: val_acc improved from 0.85778 to 0.85778, saving model to ./model.hdf_embeding\n",
      "Epoch 17/50\n",
      "2670/2670 [==============================] - 3s 1ms/step - loss: 0.0856 - acc: 0.9809 - val_loss: 0.5518 - val_acc: 0.8563\n",
      "\n",
      "Epoch 00017: val_acc did not improve from 0.85778\n",
      "Epoch 18/50\n",
      "2670/2670 [==============================] - 3s 1ms/step - loss: 0.0754 - acc: 0.9816 - val_loss: 0.5525 - val_acc: 0.8563\n",
      "\n",
      "Epoch 00018: val_acc did not improve from 0.85778\n",
      "Epoch 19/50\n",
      "2670/2670 [==============================] - 3s 938us/step - loss: 0.0665 - acc: 0.9854 - val_loss: 0.5539 - val_acc: 0.8563\n",
      "\n",
      "Epoch 00019: val_acc did not improve from 0.85778\n",
      "Epoch 20/50\n",
      "2670/2670 [==============================] - 2s 922us/step - loss: 0.0591 - acc: 0.9869 - val_loss: 0.5604 - val_acc: 0.8578\n",
      "\n",
      "Epoch 00020: val_acc did not improve from 0.85778\n",
      "Epoch 21/50\n",
      "2670/2670 [==============================] - 2s 921us/step - loss: 0.0529 - acc: 0.9891 - val_loss: 0.5664 - val_acc: 0.8563\n",
      "\n",
      "Epoch 00021: val_acc did not improve from 0.85778\n",
      "Epoch 22/50\n",
      "2670/2670 [==============================] - 3s 1ms/step - loss: 0.0472 - acc: 0.9899 - val_loss: 0.5699 - val_acc: 0.8563\n",
      "\n",
      "Epoch 00022: val_acc did not improve from 0.85778\n",
      "Epoch 23/50\n",
      "2670/2670 [==============================] - 3s 1ms/step - loss: 0.0432 - acc: 0.9906 - val_loss: 0.5698 - val_acc: 0.8593\n",
      "\n",
      "Epoch 00023: val_acc improved from 0.85778 to 0.85928, saving model to ./model.hdf_embeding\n",
      "Epoch 24/50\n",
      "2670/2670 [==============================] - 3s 974us/step - loss: 0.0391 - acc: 0.9910 - val_loss: 0.5770 - val_acc: 0.8578\n",
      "\n",
      "Epoch 00024: val_acc did not improve from 0.85928\n",
      "Epoch 25/50\n",
      "2670/2670 [==============================] - 3s 982us/step - loss: 0.0357 - acc: 0.9933 - val_loss: 0.5816 - val_acc: 0.8578\n",
      "\n",
      "Epoch 00025: val_acc did not improve from 0.85928\n",
      "Training Accuracy: 0.9940\n",
      "Testing Accuracy:  0.8578\n"
     ]
    }
   ],
   "source": [
    "history = model.fit(X_train, y_OH_train,\n",
    "                    epochs=50,\n",
    "                    verbose=True,\n",
    "                    validation_data=(X_val, y_OH_val),\n",
    "                    batch_size=10,\n",
    "                    class_weight=class_weight,\n",
    "                    callbacks = callbacks_list )\n",
    "loss, accuracy = model.evaluate(X_train, y_OH_train, verbose=False)\n",
    "print(\"Training Accuracy: {:.4f}\".format(accuracy))\n",
    "loss, accuracy = model.evaluate(X_val, y_OH_val, verbose=False)\n",
    "print(\"Testing Accuracy:  {:.4f}\".format(accuracy))\n"
   ]
  },
  {
   "cell_type": "code",
   "execution_count": 29,
   "metadata": {
    "colab": {
     "base_uri": "https://localhost:8080/",
     "height": 204
    },
    "colab_type": "code",
    "id": "8NeLLBCxQYGM",
    "outputId": "95045275-465a-484f-c60c-d113e7c7e604"
   },
   "outputs": [
    {
     "data": {
      "text/html": [
       "<div>\n",
       "<style scoped>\n",
       "    .dataframe tbody tr th:only-of-type {\n",
       "        vertical-align: middle;\n",
       "    }\n",
       "\n",
       "    .dataframe tbody tr th {\n",
       "        vertical-align: top;\n",
       "    }\n",
       "\n",
       "    .dataframe thead th {\n",
       "        text-align: right;\n",
       "    }\n",
       "</style>\n",
       "<table border=\"1\" class=\"dataframe\">\n",
       "  <thead>\n",
       "    <tr style=\"text-align: right;\">\n",
       "      <th></th>\n",
       "      <th>ID</th>\n",
       "      <th>CORE RELATIONS</th>\n",
       "    </tr>\n",
       "  </thead>\n",
       "  <tbody>\n",
       "    <tr>\n",
       "      <td>1079</td>\n",
       "      <td>1079</td>\n",
       "      <td>movie.initial_release_date</td>\n",
       "    </tr>\n",
       "    <tr>\n",
       "      <td>1080</td>\n",
       "      <td>1080</td>\n",
       "      <td>movie.starring.actor</td>\n",
       "    </tr>\n",
       "    <tr>\n",
       "      <td>1081</td>\n",
       "      <td>1081</td>\n",
       "      <td>movie.production_companies</td>\n",
       "    </tr>\n",
       "    <tr>\n",
       "      <td>1082</td>\n",
       "      <td>1082</td>\n",
       "      <td>movie.directed_by</td>\n",
       "    </tr>\n",
       "    <tr>\n",
       "      <td>1083</td>\n",
       "      <td>1083</td>\n",
       "      <td>movie.country</td>\n",
       "    </tr>\n",
       "  </tbody>\n",
       "</table>\n",
       "</div>"
      ],
      "text/plain": [
       "        ID              CORE RELATIONS\n",
       "1079  1079  movie.initial_release_date\n",
       "1080  1080        movie.starring.actor\n",
       "1081  1081  movie.production_companies\n",
       "1082  1082           movie.directed_by\n",
       "1083  1083               movie.country"
      ]
     },
     "execution_count": 29,
     "metadata": {},
     "output_type": "execute_result"
    },
    {
     "data": {
      "image/png": "[encoded data removed]",
      "text/plain": [
       "<Figure size 864x360 with 2 Axes>"
      ]
     },
     "metadata": {
      "needs_background": "light"
     },
     "output_type": "display_data"
    }
   ],
   "source": [
    "plot_history(history)\n",
    "X_test = tokenizer.texts_to_sequences(test['UTTERANCE'].values)\n",
    "X_test = pad_sequences(X_test, padding='post', maxlen=maxlen)\n",
    "model.load_weights(\"./model.hdf_embeding\")\n",
    "\n",
    "Predictions = OH_encoder.inverse_transform(model.predict(X_test)).ravel()\n",
    "submission_df[\"CORE RELATIONS\"] = LE_encoder.inverse_transform(Predictions)\n",
    "submission_df.to_csv(\"./results/submission_keras_embeding.csv\", index=False)\n",
    "submission_df.tail()\n"
   ]
  },
  {
   "cell_type": "code",
   "execution_count": 30,
   "metadata": {
    "colab": {
     "base_uri": "https://localhost:8080/",
     "height": 323
    },
    "colab_type": "code",
    "id": "x4di0AtSMQ_Q",
    "outputId": "432c2251-820d-4c2b-c54f-dd9703c7d899"
   },
   "outputs": [
    {
     "ename": "AttributeError",
     "evalue": "'numpy.ndarray' object has no attribute 'compute_class_weight'",
     "output_type": "error",
     "traceback": [
      "\u001b[0;31m---------------------------------------------------------------------------\u001b[0m",
      "\u001b[0;31mAttributeError\u001b[0m                            Traceback (most recent call last)",
      "\u001b[0;32m<ipython-input-30-af83ee43e63c>\u001b[0m in \u001b[0;36m<module>\u001b[0;34m\u001b[0m\n\u001b[1;32m      4\u001b[0m \u001b[0mearlystopped\u001b[0m \u001b[0;34m=\u001b[0m \u001b[0mEarlyStopping\u001b[0m\u001b[0;34m(\u001b[0m\u001b[0mmonitor\u001b[0m\u001b[0;34m=\u001b[0m\u001b[0;34m'val_loss'\u001b[0m\u001b[0;34m,\u001b[0m \u001b[0mmode\u001b[0m\u001b[0;34m=\u001b[0m\u001b[0;34m'min'\u001b[0m\u001b[0;34m,\u001b[0m \u001b[0mpatience\u001b[0m\u001b[0;34m=\u001b[0m\u001b[0;36m10\u001b[0m\u001b[0;34m)\u001b[0m\u001b[0;34m\u001b[0m\u001b[0;34m\u001b[0m\u001b[0m\n\u001b[1;32m      5\u001b[0m \u001b[0mcallbacks_list\u001b[0m \u001b[0;34m=\u001b[0m \u001b[0;34m[\u001b[0m\u001b[0mearlystopped\u001b[0m\u001b[0;34m,\u001b[0m \u001b[0mcheckpoint\u001b[0m\u001b[0;34m]\u001b[0m\u001b[0;34m\u001b[0m\u001b[0;34m\u001b[0m\u001b[0m\n\u001b[0;32m----> 6\u001b[0;31m \u001b[0mclass_weight\u001b[0m \u001b[0;34m=\u001b[0m \u001b[0mclass_weight\u001b[0m\u001b[0;34m.\u001b[0m\u001b[0mcompute_class_weight\u001b[0m\u001b[0;34m(\u001b[0m\u001b[0;34m'balanced'\u001b[0m \u001b[0;34m,\u001b[0m\u001b[0mnp\u001b[0m\u001b[0;34m.\u001b[0m\u001b[0munique\u001b[0m\u001b[0;34m(\u001b[0m\u001b[0my_train\u001b[0m\u001b[0;34m)\u001b[0m \u001b[0;34m,\u001b[0m\u001b[0my_train\u001b[0m\u001b[0;34m)\u001b[0m\u001b[0;34m\u001b[0m\u001b[0;34m\u001b[0m\u001b[0m\n\u001b[0m\u001b[1;32m      7\u001b[0m \u001b[0mmodel\u001b[0m \u001b[0;34m=\u001b[0m \u001b[0mSequential\u001b[0m\u001b[0;34m(\u001b[0m\u001b[0;34m)\u001b[0m\u001b[0;34m\u001b[0m\u001b[0;34m\u001b[0m\u001b[0m\n\u001b[1;32m      8\u001b[0m \u001b[0mmodel\u001b[0m\u001b[0;34m.\u001b[0m\u001b[0madd\u001b[0m\u001b[0;34m(\u001b[0m\u001b[0mlayers\u001b[0m\u001b[0;34m.\u001b[0m\u001b[0mEmbedding\u001b[0m\u001b[0;34m(\u001b[0m\u001b[0mvocab_size\u001b[0m\u001b[0;34m,\u001b[0m \u001b[0membedding_dim\u001b[0m\u001b[0;34m,\u001b[0m \u001b[0minput_length\u001b[0m\u001b[0;34m=\u001b[0m\u001b[0mmaxlen\u001b[0m\u001b[0;34m)\u001b[0m\u001b[0;34m)\u001b[0m\u001b[0;34m\u001b[0m\u001b[0;34m\u001b[0m\u001b[0m\n",
      "\u001b[0;31mAttributeError\u001b[0m: 'numpy.ndarray' object has no attribute 'compute_class_weight'"
     ]
    }
   ],
   "source": [
    "embedding_dim = 300\n",
    "filepath = \"./model.hdf_cnn\"\n",
    "checkpoint = ModelCheckpoint(filepath, monitor='val_acc', verbose=1, save_best_only=True, mode='max')\n",
    "earlystopped = EarlyStopping(monitor='val_loss', mode='min', patience=10)\n",
    "callbacks_list = [earlystopped, checkpoint]\n",
    "class_weight = class_weight.compute_class_weight('balanced' ,np.unique(y_train) ,y_train)\n",
    "model = Sequential()\n",
    "model.add(layers.Embedding(vocab_size, embedding_dim, input_length=maxlen))\n",
    "model.add(layers.Conv1D(128, 5, activation='relu'))\n",
    "model.add(layers.GlobalMaxPooling1D())\n",
    "model.add(layers.Dense(64, activation='relu'))\n",
    "model.add(layers.Dense(35, activation='softmax'))\n",
    "model.compile(optimizer='adam',\n",
    "              loss='categorical_crossentropy',\n",
    "              metrics=['accuracy'])\n",
    "model.summary()"
   ]
  },
  {
   "cell_type": "code",
   "execution_count": null,
   "metadata": {
    "colab": {
     "base_uri": "https://localhost:8080/",
     "height": 812
    },
    "colab_type": "code",
    "id": "s5b3Kx2EMQ_S",
    "outputId": "6b5f280f-8ed5-48e4-e9b3-24d91b0bcee0"
   },
   "outputs": [],
   "source": [
    "history = model.fit(X_train, y_OH_train,\n",
    "                    epochs=50,\n",
    "                    verbose=False,\n",
    "                    validation_data=(X_val, y_OH_val),\n",
    "                    batch_size=10,\n",
    "                    class_weight=class_weight,\n",
    "                    callbacks = callbacks_list)\n",
    "\n",
    "loss, accuracy = model.evaluate(X_train, y_OH_train, verbose=False)\n",
    "print(\"Training Accuracy: {:.4f}\".format(accuracy))\n",
    "loss, accuracy = model.evaluate(X_val, y_OH_val, verbose=False)\n",
    "print(\"Testing Accuracy:  {:.4f}\".format(accuracy))\n",
    "plot_history(history)"
   ]
  },
  {
   "cell_type": "code",
   "execution_count": null,
   "metadata": {
    "colab": {
     "base_uri": "https://localhost:8080/",
     "height": 204
    },
    "colab_type": "code",
    "id": "_AvwdajWQiGb",
    "outputId": "46d6de4c-db38-460d-d58c-b3d7a846e7cf"
   },
   "outputs": [],
   "source": [
    "plot_history(history)\n",
    "# X_test = tokenizer.texts_to_sequences(test['UTTERANCE'].values)\n",
    "# X_test = pad_sequences(X_test, padding='post', maxlen=maxlen)\n",
    "model.load_weights(\"./model.hdf_cnn\")\n",
    "submission_df = submission[[\"ID\"]]\n",
    "Predictions = OH_encoder.inverse_transform(model.predict(X_test)).ravel()\n",
    "submission_df[\"CORE RELATIONS\"] = LE_encoder.inverse_transform(Predictions)\n",
    "submission_df.to_csv(\"./results/submission_keras_cnn.csv\", index=False)\n",
    "submission_df.tail()\n"
   ]
  },
  {
   "cell_type": "code",
   "execution_count": null,
   "metadata": {
    "colab": {},
    "colab_type": "code",
    "id": "n7qASTDUMQ_V"
   },
   "outputs": [],
   "source": [
    "# from keras.optimizers import SGD\n",
    "# sgd = SGD(lr=0.001, decay=1e-6, momentum=0.8, nesterov=True)"
   ]
  },
  {
   "cell_type": "code",
   "execution_count": null,
   "metadata": {
    "colab": {},
    "colab_type": "code",
    "id": "iVgHN0FDc6Un"
   },
   "outputs": [],
   "source": [
    "# import nltk\n",
    "# from nltk.corpus import stopwords\n",
    "# nltk.download('stopwords')\n",
    "# s=set(stopwords.words('english'))\n",
    "\n",
    "# txt = \"hahah you are the big peopel .\"\n",
    "# text = filter(lambda w: not w in s,txt.split())\n",
    "# text = list(text)"
   ]
  },
  {
   "cell_type": "code",
   "execution_count": null,
   "metadata": {
    "colab": {},
    "colab_type": "code",
    "id": "bN2J3ogXgcZF"
   },
   "outputs": [],
   "source": [
    "# print(text)"
   ]
  },
  {
   "cell_type": "markdown",
   "metadata": {
    "colab_type": "text",
    "id": "FM3JKcC3g_Zp"
   },
   "source": [
    "Kaggle score:\n",
    "LogisticRegression 0.76\\\n",
    "MLP 0.77\\\n",
    "embeding 0.807\\\n",
    "Cnn 0.77\n"
   ]
  },
  {
   "cell_type": "code",
   "execution_count": 31,
   "metadata": {
    "colab": {},
    "colab_type": "code",
    "id": "7AuERnn-ytmt"
   },
   "outputs": [],
   "source": [
    "from sklearn.preprocessing import MultiLabelBinarizer\n",
    "Labels = [ k for k in relations_counts]\n",
    "mlb = MultiLabelBinarizer(sparse_output=False,classes=None).fit([Labels])\n",
    "# mlb.classes_\n",
    "x = []\n",
    "for i in y:\n",
    "    x.append(tuple(i.split()))\n",
    "y_label = mlb.transform(x)\n",
    "\n",
    "LE_encoder = LabelEncoder().fit(y)\n",
    "integer_encoded = LE_encoder.transform(y)\n",
    "\n",
    "LB_encoder = LabelBinarizer().fit(y)\n",
    "y_LB = LB_encoder.fit_transform(y)\n",
    "\n",
    "integer_encoded = integer_encoded.reshape(len(integer_encoded), 1)\n",
    "OH_encoder = OneHotEncoder(sparse=False,categories='auto').fit(integer_encoded)\n",
    "y_OH = OH_encoder.fit_transform(integer_encoded)\n",
    "\n",
    "sentences_train, sentences_val, y_train, y_val, y_OH_train, y_OH_val = train_test_split(sentences, y_label, y_OH, test_size=0.25, random_state=1000)\n",
    "tokenizer = Tokenizer(num_words=5000)\n",
    "tokenizer.fit_on_texts(sentences)\n",
    "\n",
    "X_train = tokenizer.texts_to_sequences(sentences_train)\n",
    "X_val = tokenizer.texts_to_sequences(sentences_val)\n",
    "\n",
    "vocab_size = len(tokenizer.word_index) + 1  # Adding 1 because of reserved 0 index\n",
    "maxlen = 100\n",
    "\n",
    "X_train = pad_sequences(X_train, padding='post', maxlen=maxlen)\n",
    "X_val = pad_sequences(X_val, padding='post', maxlen=maxlen)"
   ]
  },
  {
   "cell_type": "code",
   "execution_count": 32,
   "metadata": {
    "colab": {
     "base_uri": "https://localhost:8080/",
     "height": 272
    },
    "colab_type": "code",
    "id": "ZDnccrki4lm3",
    "outputId": "116ae16c-8948-4a13-cef6-45b1d32c405c"
   },
   "outputs": [
    {
     "data": {
      "text/plain": [
       "array(['NO_REL', 'actor.gender', 'actor.nationality', 'award.category',\n",
       "       'award.ceremony', 'award.winning_work', 'director.award',\n",
       "       'director.nationality', 'gr.amount', 'movie.award',\n",
       "       'movie.award_nom', 'movie.country', 'movie.description',\n",
       "       'movie.directed_by', 'movie.estimated_budget', 'movie.genre',\n",
       "       'movie.gross_revenue', 'movie.initial_release_date',\n",
       "       'movie.language', 'movie.locations', 'movie.media', 'movie.music',\n",
       "       'movie.produced_by', 'movie.production_companies', 'movie.rating',\n",
       "       'movie.release', 'movie.review', 'movie.runtime', 'movie.showing',\n",
       "       'movie.star_rating', 'movie.starring.actor',\n",
       "       'movie.starring.character', 'movie.subjects', 'movie.synopsis',\n",
       "       'movie.trailer', 'movie.written_by', 'movie_other', 'other',\n",
       "       'person.award', 'person.country', 'person.date_of_birth',\n",
       "       'person.nationality', 'person.picture', 'release.date',\n",
       "       'release.region', 'rt.runtime'], dtype=object)"
      ]
     },
     "execution_count": 32,
     "metadata": {},
     "output_type": "execute_result"
    }
   ],
   "source": [
    "mlb.classes_"
   ]
  },
  {
   "cell_type": "code",
   "execution_count": 33,
   "metadata": {
    "colab": {
     "base_uri": "https://localhost:8080/",
     "height": 289
    },
    "colab_type": "code",
    "id": "54uSbvE8ytmx",
    "outputId": "ea8c7e09-c51e-4eb9-9abe-e90823c21209"
   },
   "outputs": [
    {
     "name": "stdout",
     "output_type": "stream",
     "text": [
      "_________________________________________________________________\n",
      "Layer (type)                 Output Shape              Param #   \n",
      "=================================================================\n",
      "embedding_3 (Embedding)      (None, 100, 200)          353400    \n",
      "_________________________________________________________________\n",
      "global_max_pooling1d_3 (Glob (None, 200)               0         \n",
      "_________________________________________________________________\n",
      "dense_7 (Dense)              (None, 128)               25728     \n",
      "_________________________________________________________________\n",
      "dense_8 (Dense)              (None, 46)                5934      \n",
      "=================================================================\n",
      "Total params: 385,062\n",
      "Trainable params: 385,062\n",
      "Non-trainable params: 0\n",
      "_________________________________________________________________\n"
     ]
    }
   ],
   "source": [
    "embedding_dim = 200\n",
    "filepath = \"./model.hdf_embeding_multi\"\n",
    "checkpoint = ModelCheckpoint(filepath, monitor='val_acc', verbose=1, save_best_only=True, mode='max')\n",
    "earlystopped = EarlyStopping(monitor='val_loss', mode='min', patience=10)\n",
    "callbacks_list = [earlystopped, checkpoint]\n",
    "\n",
    "model = Sequential()\n",
    "model.add(layers.Embedding(input_dim=vocab_size, \n",
    "                           output_dim=embedding_dim, \n",
    "                           input_length=maxlen))\n",
    "# model.add(layers.Flatten())\n",
    "model.add(layers.GlobalMaxPool1D())\n",
    "#Global max/average pooling takes the maximum/average of \n",
    "# all features whereas in the other case you have to define the pool size.\n",
    "model.add(layers.Dense(128, activation='relu'))\n",
    "model.add(layers.Dense(46, activation='sigmoid'))\n",
    "model.compile(optimizer='adam',\n",
    "              loss='binary_crossentropy',\n",
    "              metrics=['accuracy'])\n",
    "model.summary()"
   ]
  },
  {
   "cell_type": "code",
   "execution_count": 34,
   "metadata": {
    "colab": {
     "base_uri": "https://localhost:8080/",
     "height": 1000
    },
    "colab_type": "code",
    "id": "yro2fzbPytm0",
    "outputId": "a85fa5da-5786-4800-ce59-3eeadb0b7d5e"
   },
   "outputs": [
    {
     "name": "stdout",
     "output_type": "stream",
     "text": [
      "Train on 2503 samples, validate on 835 samples\n",
      "Epoch 1/50\n",
      "2503/2503 [==============================] - 11s 4ms/step - loss: 0.1200 - acc: 0.9730 - val_loss: 0.0796 - val_acc: 0.9783\n",
      "\n",
      "Epoch 00001: val_acc improved from -inf to 0.97826, saving model to ./model.hdf_embeding_multi\n",
      "Epoch 2/50\n",
      "2503/2503 [==============================] - 11s 5ms/step - loss: 0.0681 - acc: 0.9799 - val_loss: 0.0506 - val_acc: 0.9829\n",
      "\n",
      "Epoch 00002: val_acc improved from 0.97826 to 0.98287, saving model to ./model.hdf_embeding_multi\n",
      "Epoch 3/50\n",
      "2503/2503 [==============================] - 11s 4ms/step - loss: 0.0394 - acc: 0.9878 - val_loss: 0.0341 - val_acc: 0.9894\n",
      "\n",
      "Epoch 00003: val_acc improved from 0.98287 to 0.98938, saving model to ./model.hdf_embeding_multi\n",
      "Epoch 4/50\n",
      "2503/2503 [==============================] - 11s 4ms/step - loss: 0.0262 - acc: 0.9918 - val_loss: 0.0270 - val_acc: 0.9917\n",
      "\n",
      "Epoch 00004: val_acc improved from 0.98938 to 0.99172, saving model to ./model.hdf_embeding_multi\n",
      "Epoch 5/50\n",
      "2503/2503 [==============================] - 10s 4ms/step - loss: 0.0179 - acc: 0.9948 - val_loss: 0.0233 - val_acc: 0.9931\n",
      "\n",
      "Epoch 00005: val_acc improved from 0.99172 to 0.99307, saving model to ./model.hdf_embeding_multi\n",
      "Epoch 6/50\n",
      "2503/2503 [==============================] - 12s 5ms/step - loss: 0.0121 - acc: 0.9966 - val_loss: 0.0220 - val_acc: 0.9937\n",
      "\n",
      "Epoch 00006: val_acc improved from 0.99307 to 0.99367, saving model to ./model.hdf_embeding_multi\n",
      "Epoch 7/50\n",
      "2503/2503 [==============================] - 10s 4ms/step - loss: 0.0082 - acc: 0.9978 - val_loss: 0.0222 - val_acc: 0.9937\n",
      "\n",
      "Epoch 00007: val_acc improved from 0.99367 to 0.99370, saving model to ./model.hdf_embeding_multi\n",
      "Epoch 8/50\n",
      "2503/2503 [==============================] - 9s 4ms/step - loss: 0.0056 - acc: 0.9986 - val_loss: 0.0221 - val_acc: 0.9939\n",
      "\n",
      "Epoch 00008: val_acc improved from 0.99370 to 0.99391, saving model to ./model.hdf_embeding_multi\n",
      "Epoch 9/50\n",
      "2503/2503 [==============================] - 8s 3ms/step - loss: 0.0039 - acc: 0.9991 - val_loss: 0.0235 - val_acc: 0.9938\n",
      "\n",
      "Epoch 00009: val_acc did not improve from 0.99391\n",
      "Epoch 10/50\n",
      "2503/2503 [==============================] - 8s 3ms/step - loss: 0.0028 - acc: 0.9993 - val_loss: 0.0236 - val_acc: 0.9939\n",
      "\n",
      "Epoch 00010: val_acc did not improve from 0.99391\n",
      "Epoch 11/50\n",
      "2503/2503 [==============================] - 8s 3ms/step - loss: 0.0021 - acc: 0.9995 - val_loss: 0.0251 - val_acc: 0.9939\n",
      "\n",
      "Epoch 00011: val_acc improved from 0.99391 to 0.99393, saving model to ./model.hdf_embeding_multi\n",
      "Epoch 12/50\n",
      "2503/2503 [==============================] - 8s 3ms/step - loss: 0.0015 - acc: 0.9997 - val_loss: 0.0264 - val_acc: 0.9940\n",
      "\n",
      "Epoch 00012: val_acc improved from 0.99393 to 0.99399, saving model to ./model.hdf_embeding_multi\n",
      "Epoch 13/50\n",
      "2503/2503 [==============================] - 8s 3ms/step - loss: 0.0011 - acc: 0.9998 - val_loss: 0.0287 - val_acc: 0.9938\n",
      "\n",
      "Epoch 00013: val_acc did not improve from 0.99399\n",
      "Epoch 14/50\n",
      "2503/2503 [==============================] - 8s 3ms/step - loss: 8.5616e-04 - acc: 0.9998 - val_loss: 0.0289 - val_acc: 0.9939\n",
      "\n",
      "Epoch 00014: val_acc did not improve from 0.99399\n",
      "Epoch 15/50\n",
      "2503/2503 [==============================] - 8s 3ms/step - loss: 5.9746e-04 - acc: 0.9999 - val_loss: 0.0299 - val_acc: 0.9940\n",
      "\n",
      "Epoch 00015: val_acc improved from 0.99399 to 0.99404, saving model to ./model.hdf_embeding_multi\n",
      "Epoch 16/50\n",
      "2503/2503 [==============================] - 8s 3ms/step - loss: 4.9593e-04 - acc: 0.9999 - val_loss: 0.0314 - val_acc: 0.9940\n",
      "\n",
      "Epoch 00016: val_acc improved from 0.99404 to 0.99404, saving model to ./model.hdf_embeding_multi\n"
     ]
    }
   ],
   "source": [
    "history = model.fit(X_train, y_train,\n",
    "                    epochs=50,\n",
    "                    verbose= True,\n",
    "                    validation_data=(X_val, y_val),\n",
    "                    batch_size=5,\n",
    "                    callbacks = callbacks_list)"
   ]
  },
  {
   "cell_type": "code",
   "execution_count": 35,
   "metadata": {
    "colab": {
     "base_uri": "https://localhost:8080/",
     "height": 370
    },
    "colab_type": "code",
    "id": "RrTGg8Z2ytm3",
    "outputId": "5832010c-5c44-4a43-b8e9-562522405121"
   },
   "outputs": [
    {
     "name": "stdout",
     "output_type": "stream",
     "text": [
      "Training Accuracy: 0.9999\n",
      "Testing Accuracy:  0.9940\n"
     ]
    },
    {
     "data": {
      "image/png": "[encoded data removed]",
      "text/plain": [
       "<Figure size 864x360 with 2 Axes>"
      ]
     },
     "metadata": {
      "needs_background": "light"
     },
     "output_type": "display_data"
    }
   ],
   "source": [
    "loss, accuracy = model.evaluate(X_train, y_train, verbose=False)\n",
    "print(\"Training Accuracy: {:.4f}\".format(accuracy))\n",
    "loss, accuracy = model.evaluate(X_val, y_val, verbose=False)\n",
    "print(\"Testing Accuracy:  {:.4f}\".format(accuracy))\n",
    "plot_history(history)"
   ]
  },
  {
   "cell_type": "code",
   "execution_count": 36,
   "metadata": {
    "colab": {},
    "colab_type": "code",
    "id": "8IUuRhewytm7"
   },
   "outputs": [],
   "source": [
    "from sklearn.metrics import f1_score\n",
    "model.load_weights(\"./model.hdf_embeding_multi\")\n",
    "TOKENsentences = tokenizer.texts_to_sequences(sentences)\n",
    "X_TOKENsentences = pad_sequences(TOKENsentences, padding='post', maxlen=maxlen)\n",
    "train2 = pd.read_csv('./data/hw1_train.csv')"
   ]
  },
  {
   "cell_type": "code",
   "execution_count": 37,
   "metadata": {
    "colab": {
     "base_uri": "https://localhost:8080/",
     "height": 255
    },
    "colab_type": "code",
    "id": "Dr-_Ok3uytm8",
    "outputId": "af6fde15-1d4f-4ff3-b71b-e114d1773227"
   },
   "outputs": [
    {
     "name": "stderr",
     "output_type": "stream",
     "text": [
      "/opt/anaconda3/lib/python3.7/site-packages/pandas/core/indexing.py:376: SettingWithCopyWarning: \n",
      "A value is trying to be set on a copy of a slice from a DataFrame.\n",
      "Try using .loc[row_indexer,col_indexer] = value instead\n",
      "\n",
      "See the caveats in the documentation: http://pandas.pydata.org/pandas-docs/stable/user_guide/indexing.html#returning-a-view-versus-a-copy\n",
      "  self.obj[key] = _infer_fill_value(value)\n",
      "/opt/anaconda3/lib/python3.7/site-packages/pandas/core/indexing.py:494: SettingWithCopyWarning: \n",
      "A value is trying to be set on a copy of a slice from a DataFrame.\n",
      "Try using .loc[row_indexer,col_indexer] = value instead\n",
      "\n",
      "See the caveats in the documentation: http://pandas.pydata.org/pandas-docs/stable/user_guide/indexing.html#returning-a-view-versus-a-copy\n",
      "  self.obj[item] = s\n"
     ]
    },
    {
     "name": "stdout",
     "output_type": "stream",
     "text": [
      "0.49\n",
      "0.8057105827314396\n"
     ]
    }
   ],
   "source": [
    "threshold = 0.2;\n",
    "maxScore = 0;\n",
    "\n",
    "for x in range(40):\n",
    "    probas = model.predict(X_TOKENsentences)\n",
    "    index = 0\n",
    "    for i in probas:\n",
    "        probas[index] = (i > 0.1+(x/100)).astype(np.int)\n",
    "    #0.23\n",
    "        index = index+1\n",
    "    \n",
    "    train2_df = train2[[\"ID\"]]\n",
    "    train2_df.loc[:,\"CORE RELATIONS\"] = mlb.inverse_transform(probas)\n",
    "    train2_df.loc[:,\"CORE RELATIONS\"] = train2_df.loc[:,\"CORE RELATIONS\"].map(' '.join)\n",
    "#     train2_df.loc[:,\"CORE RELATIONS\"]= train2_df.loc[:,\"CORE RELATIONS\"].replace('', 'NO_REL')\n",
    "    if maxScore < f1_score(train[\"CORE RELATIONS\"], train2_df[\"CORE RELATIONS\"], average='weighted'):\n",
    "        maxScore = f1_score(train[\"CORE RELATIONS\"], train2_df[\"CORE RELATIONS\"], average='weighted')\n",
    "        threshold = 0.1 + x/100\n",
    "        \n",
    "print(threshold)\n",
    "print(maxScore)"
   ]
  },
  {
   "cell_type": "code",
   "execution_count": 38,
   "metadata": {
    "colab": {},
    "colab_type": "code",
    "id": "-wMmHWleytm_"
   },
   "outputs": [],
   "source": [
    "X_test = tokenizer.texts_to_sequences(test['UTTERANCE'].values)\n",
    "X_test = pad_sequences(X_test, padding='post', maxlen=maxlen)\n",
    "\n",
    "probas1 = model.predict(X_test)\n",
    "index = 0\n",
    "for i in probas1:\n",
    "    probas1[index] = (i > threshold).astype(np.int)\n",
    "    #0.23\n",
    "    index = index+1"
   ]
  },
  {
   "cell_type": "code",
   "execution_count": 39,
   "metadata": {
    "colab": {},
    "colab_type": "code",
    "id": "YRZiLaiSytnE"
   },
   "outputs": [],
   "source": [
    "submission_df = submission[[\"ID\"]]\n",
    "submission_df[\"CORE RELATIONS\"] = mlb.inverse_transform(probas1)\n",
    "submission_df[\"CORE RELATIONS\"] = submission_df[\"CORE RELATIONS\"].map(' '.join)\n",
    "# submission_df[\"CORE RELATIONS\"]= submission_df[\"CORE RELATIONS\"].replace('', 'NO_REL') # movie.directed_by\n",
    "submission_df.to_csv(\"./results/submission_keras_embeding_multi.csv\", index=False)"
   ]
  },
  {
   "cell_type": "code",
   "execution_count": 40,
   "metadata": {
    "colab": {
     "base_uri": "https://localhost:8080/",
     "height": 204
    },
    "colab_type": "code",
    "id": "vqtuCMLJytnK",
    "outputId": "7892f990-410f-46f3-c0c0-b0e39f008e61"
   },
   "outputs": [
    {
     "data": {
      "text/html": [
       "<div>\n",
       "<style scoped>\n",
       "    .dataframe tbody tr th:only-of-type {\n",
       "        vertical-align: middle;\n",
       "    }\n",
       "\n",
       "    .dataframe tbody tr th {\n",
       "        vertical-align: top;\n",
       "    }\n",
       "\n",
       "    .dataframe thead th {\n",
       "        text-align: right;\n",
       "    }\n",
       "</style>\n",
       "<table border=\"1\" class=\"dataframe\">\n",
       "  <thead>\n",
       "    <tr style=\"text-align: right;\">\n",
       "      <th></th>\n",
       "      <th>ID</th>\n",
       "      <th>CORE RELATIONS</th>\n",
       "    </tr>\n",
       "  </thead>\n",
       "  <tbody>\n",
       "    <tr>\n",
       "      <td>1079</td>\n",
       "      <td>1079</td>\n",
       "      <td></td>\n",
       "    </tr>\n",
       "    <tr>\n",
       "      <td>1080</td>\n",
       "      <td>1080</td>\n",
       "      <td></td>\n",
       "    </tr>\n",
       "    <tr>\n",
       "      <td>1081</td>\n",
       "      <td>1081</td>\n",
       "      <td>movie.initial_release_date</td>\n",
       "    </tr>\n",
       "    <tr>\n",
       "      <td>1082</td>\n",
       "      <td>1082</td>\n",
       "      <td>movie.starring.actor</td>\n",
       "    </tr>\n",
       "    <tr>\n",
       "      <td>1083</td>\n",
       "      <td>1083</td>\n",
       "      <td></td>\n",
       "    </tr>\n",
       "  </tbody>\n",
       "</table>\n",
       "</div>"
      ],
      "text/plain": [
       "        ID              CORE RELATIONS\n",
       "1079  1079                            \n",
       "1080  1080                            \n",
       "1081  1081  movie.initial_release_date\n",
       "1082  1082        movie.starring.actor\n",
       "1083  1083                            "
      ]
     },
     "execution_count": 40,
     "metadata": {},
     "output_type": "execute_result"
    }
   ],
   "source": [
    "submission_df.tail()"
   ]
  },
  {
   "cell_type": "code",
   "execution_count": 48,
   "metadata": {
    "colab": {
     "base_uri": "https://localhost:8080/",
     "height": 748
    },
    "colab_type": "code",
    "id": "qTr5rz725aDK",
    "outputId": "f9528884-6419-4ae8-f8d6-c0d9ef2b0198"
   },
   "outputs": [
    {
     "name": "stdout",
     "output_type": "stream",
     "text": [
      "Collecting sentence-transformers\n",
      "\u001b[?25l  Downloading https://files.pythonhosted.org/packages/c9/91/c85ddef872d5bb39949386930c1f834ac382e145fcd30155b09d6fb65c5a/sentence-transformers-0.2.5.tar.gz (49kB)\n",
      "\u001b[K     |████████████████████████████████| 51kB 1.9MB/s \n",
      "\u001b[?25hCollecting transformers==2.3.0\n",
      "\u001b[?25l  Downloading https://files.pythonhosted.org/packages/50/10/aeefced99c8a59d828a92cc11d213e2743212d3641c87c82d61b035a7d5c/transformers-2.3.0-py3-none-any.whl (447kB)\n",
      "\u001b[K     |████████████████████████████████| 450kB 8.6MB/s \n",
      "\u001b[?25hRequirement already satisfied: tqdm in /usr/local/lib/python3.6/dist-packages (from sentence-transformers) (4.28.1)\n",
      "Requirement already satisfied: torch>=1.0.1 in /usr/local/lib/python3.6/dist-packages (from sentence-transformers) (1.4.0)\n",
      "Requirement already satisfied: numpy in /usr/local/lib/python3.6/dist-packages (from sentence-transformers) (1.17.5)\n",
      "Requirement already satisfied: scikit-learn in /usr/local/lib/python3.6/dist-packages (from sentence-transformers) (0.22.1)\n",
      "Requirement already satisfied: scipy in /usr/local/lib/python3.6/dist-packages (from sentence-transformers) (1.4.1)\n",
      "Requirement already satisfied: nltk in /usr/local/lib/python3.6/dist-packages (from sentence-transformers) (3.2.5)\n",
      "Requirement already satisfied: regex!=2019.12.17 in /usr/local/lib/python3.6/dist-packages (from transformers==2.3.0->sentence-transformers) (2019.12.20)\n",
      "Requirement already satisfied: boto3 in /usr/local/lib/python3.6/dist-packages (from transformers==2.3.0->sentence-transformers) (1.11.10)\n",
      "Collecting sentencepiece\n",
      "\u001b[?25l  Downloading https://files.pythonhosted.org/packages/74/f4/2d5214cbf13d06e7cb2c20d84115ca25b53ea76fa1f0ade0e3c9749de214/sentencepiece-0.1.85-cp36-cp36m-manylinux1_x86_64.whl (1.0MB)\n",
      "\u001b[K     |████████████████████████████████| 1.0MB 33.4MB/s \n",
      "\u001b[?25hRequirement already satisfied: requests in /usr/local/lib/python3.6/dist-packages (from transformers==2.3.0->sentence-transformers) (2.21.0)\n",
      "Collecting sacremoses\n",
      "\u001b[?25l  Downloading https://files.pythonhosted.org/packages/a6/b4/7a41d630547a4afd58143597d5a49e07bfd4c42914d8335b2a5657efc14b/sacremoses-0.0.38.tar.gz (860kB)\n",
      "\u001b[K     |████████████████████████████████| 870kB 40.9MB/s \n",
      "\u001b[?25hRequirement already satisfied: joblib>=0.11 in /usr/local/lib/python3.6/dist-packages (from scikit-learn->sentence-transformers) (0.14.1)\n",
      "Requirement already satisfied: six in /usr/local/lib/python3.6/dist-packages (from nltk->sentence-transformers) (1.12.0)\n",
      "Requirement already satisfied: jmespath<1.0.0,>=0.7.1 in /usr/local/lib/python3.6/dist-packages (from boto3->transformers==2.3.0->sentence-transformers) (0.9.4)\n",
      "Requirement already satisfied: s3transfer<0.4.0,>=0.3.0 in /usr/local/lib/python3.6/dist-packages (from boto3->transformers==2.3.0->sentence-transformers) (0.3.2)\n",
      "Requirement already satisfied: botocore<1.15.0,>=1.14.10 in /usr/local/lib/python3.6/dist-packages (from boto3->transformers==2.3.0->sentence-transformers) (1.14.10)\n",
      "Requirement already satisfied: urllib3<1.25,>=1.21.1 in /usr/local/lib/python3.6/dist-packages (from requests->transformers==2.3.0->sentence-transformers) (1.24.3)\n",
      "Requirement already satisfied: certifi>=2017.4.17 in /usr/local/lib/python3.6/dist-packages (from requests->transformers==2.3.0->sentence-transformers) (2019.11.28)\n",
      "Requirement already satisfied: chardet<3.1.0,>=3.0.2 in /usr/local/lib/python3.6/dist-packages (from requests->transformers==2.3.0->sentence-transformers) (3.0.4)\n",
      "Requirement already satisfied: idna<2.9,>=2.5 in /usr/local/lib/python3.6/dist-packages (from requests->transformers==2.3.0->sentence-transformers) (2.8)\n",
      "Requirement already satisfied: click in /usr/local/lib/python3.6/dist-packages (from sacremoses->transformers==2.3.0->sentence-transformers) (7.0)\n",
      "Requirement already satisfied: python-dateutil<3.0.0,>=2.1 in /usr/local/lib/python3.6/dist-packages (from botocore<1.15.0,>=1.14.10->boto3->transformers==2.3.0->sentence-transformers) (2.6.1)\n",
      "Requirement already satisfied: docutils<0.16,>=0.10 in /usr/local/lib/python3.6/dist-packages (from botocore<1.15.0,>=1.14.10->boto3->transformers==2.3.0->sentence-transformers) (0.15.2)\n",
      "Building wheels for collected packages: sentence-transformers, sacremoses\n",
      "  Building wheel for sentence-transformers (setup.py) ... \u001b[?25l\u001b[?25hdone\n",
      "  Created wheel for sentence-transformers: filename=sentence_transformers-0.2.5-cp36-none-any.whl size=64942 sha256=82d72536ee1c799fd18906dd6ca3be65ba7c6ea100dbcb885946d3247cfbcec2\n",
      "  Stored in directory: /root/.cache/pip/wheels/b4/ce/39/5bbda8ac34eb52df8c6531382ca077773fbfcbfb6386e5d66c\n",
      "  Building wheel for sacremoses (setup.py) ... \u001b[?25l\u001b[?25hdone\n",
      "  Created wheel for sacremoses: filename=sacremoses-0.0.38-cp36-none-any.whl size=884628 sha256=7a9d82203849efc89a5c90b993b70a090e8c0e26d049fea9b31fcc78cc1c6c6a\n",
      "  Stored in directory: /root/.cache/pip/wheels/6d/ec/1a/21b8912e35e02741306f35f66c785f3afe94de754a0eaf1422\n",
      "Successfully built sentence-transformers sacremoses\n",
      "Installing collected packages: sentencepiece, sacremoses, transformers, sentence-transformers\n",
      "Successfully installed sacremoses-0.0.38 sentence-transformers-0.2.5 sentencepiece-0.1.85 transformers-2.3.0\n"
     ]
    }
   ],
   "source": [
    "!pip install sentence-transformers"
   ]
  },
  {
   "cell_type": "code",
   "execution_count": 49,
   "metadata": {
    "colab": {
     "base_uri": "https://localhost:8080/",
     "height": 34
    },
    "colab_type": "code",
    "id": "fHLVOoa2ytnM",
    "outputId": "f2228521-a5f2-440a-9e31-6b5cc5608c38"
   },
   "outputs": [
    {
     "name": "stderr",
     "output_type": "stream",
     "text": [
      "100%|██████████| 405M/405M [01:05<00:00, 6.22MB/s]\n"
     ]
    }
   ],
   "source": [
    "from sentence_transformers import SentenceTransformer\n",
    "Bertmodel = SentenceTransformer('bert-base-nli-mean-tokens')\n",
    "# sentence_embeddings = Bertmodel.encode(sentences)"
   ]
  },
  {
   "cell_type": "code",
   "execution_count": 0,
   "metadata": {
    "colab": {},
    "colab_type": "code",
    "id": "s9hnNHqDytnO"
   },
   "outputs": [],
   "source": [
    "sentences_train = Bertmodel.encode(sentences_train)\n",
    "sentences_val = Bertmodel.encode(sentences_val)\n",
    "sentences_train = np.asarray(sentences_train)\n",
    "sentences_val = np.asarray(sentences_val)\n",
    "X_train = sentences_train\n",
    "X_val = sentences_val"
   ]
  },
  {
   "cell_type": "code",
   "execution_count": 0,
   "metadata": {
    "colab": {},
    "colab_type": "code",
    "id": "ndOj09MBytnQ"
   },
   "outputs": [],
   "source": []
  },
  {
   "cell_type": "code",
   "execution_count": 51,
   "metadata": {
    "colab": {
     "base_uri": "https://localhost:8080/",
     "height": 493
    },
    "colab_type": "code",
    "id": "s4ZoZyJcytnU",
    "outputId": "db85111f-9d70-4d68-f3d1-78cadd86c4a3"
   },
   "outputs": [
    {
     "name": "stdout",
     "output_type": "stream",
     "text": [
      "WARNING:tensorflow:From /usr/local/lib/python3.6/dist-packages/keras/backend/tensorflow_backend.py:148: The name tf.placeholder_with_default is deprecated. Please use tf.compat.v1.placeholder_with_default instead.\n",
      "\n"
     ]
    },
    {
     "name": "stderr",
     "output_type": "stream",
     "text": [
      "WARNING:tensorflow:From /usr/local/lib/python3.6/dist-packages/keras/backend/tensorflow_backend.py:148: The name tf.placeholder_with_default is deprecated. Please use tf.compat.v1.placeholder_with_default instead.\n",
      "\n"
     ]
    },
    {
     "name": "stdout",
     "output_type": "stream",
     "text": [
      "WARNING:tensorflow:From /usr/local/lib/python3.6/dist-packages/keras/backend/tensorflow_backend.py:3733: calling dropout (from tensorflow.python.ops.nn_ops) with keep_prob is deprecated and will be removed in a future version.\n",
      "Instructions for updating:\n",
      "Please use `rate` instead of `keep_prob`. Rate should be set to `rate = 1 - keep_prob`.\n"
     ]
    },
    {
     "name": "stderr",
     "output_type": "stream",
     "text": [
      "WARNING:tensorflow:From /usr/local/lib/python3.6/dist-packages/keras/backend/tensorflow_backend.py:3733: calling dropout (from tensorflow.python.ops.nn_ops) with keep_prob is deprecated and will be removed in a future version.\n",
      "Instructions for updating:\n",
      "Please use `rate` instead of `keep_prob`. Rate should be set to `rate = 1 - keep_prob`.\n"
     ]
    },
    {
     "name": "stdout",
     "output_type": "stream",
     "text": [
      "Model: \"sequential_5\"\n",
      "_________________________________________________________________\n",
      "Layer (type)                 Output Shape              Param #   \n",
      "=================================================================\n",
      "dense_9 (Dense)              (None, 512)               393728    \n",
      "_________________________________________________________________\n",
      "dropout_1 (Dropout)          (None, 512)               0         \n",
      "_________________________________________________________________\n",
      "dense_10 (Dense)             (None, 128)               65664     \n",
      "_________________________________________________________________\n",
      "dropout_2 (Dropout)          (None, 128)               0         \n",
      "_________________________________________________________________\n",
      "dense_11 (Dense)             (None, 46)                5934      \n",
      "=================================================================\n",
      "Total params: 465,326\n",
      "Trainable params: 465,326\n",
      "Non-trainable params: 0\n",
      "_________________________________________________________________\n"
     ]
    }
   ],
   "source": [
    "from keras.layers import Dropout\n",
    "from keras.constraints import maxnorm\n",
    "embedding_dim = 512\n",
    "filepath = \"./model.hdf_bert_multi\"\n",
    "checkpoint = ModelCheckpoint(filepath, monitor='val_acc', verbose=1, save_best_only=True, mode='max')\n",
    "earlystopped = EarlyStopping(monitor='val_loss', mode='min', patience=10)\n",
    "callbacks_list = [earlystopped, checkpoint]\n",
    "\n",
    "model = Sequential()\n",
    "model.add(layers.Dense(512, input_dim=768, activation='relu'))\n",
    "model.add(Dropout(0.3))\n",
    "model.add(layers.Dense(128, activation='relu', kernel_constraint=maxnorm(3)))\n",
    "model.add(Dropout(0.3))\n",
    "model.add(layers.Dense(46, activation='sigmoid'))\n",
    "model.compile(optimizer='adam',\n",
    "              loss='binary_crossentropy',\n",
    "              metrics=['accuracy'])\n",
    "model.summary()"
   ]
  },
  {
   "cell_type": "code",
   "execution_count": 52,
   "metadata": {
    "colab": {
     "base_uri": "https://localhost:8080/",
     "height": 1000
    },
    "colab_type": "code",
    "id": "pBWT3AtHytnY",
    "outputId": "36a3c815-6ecc-482b-f3e7-a6c88838d302"
   },
   "outputs": [
    {
     "name": "stdout",
     "output_type": "stream",
     "text": [
      "Train on 2503 samples, validate on 835 samples\n",
      "Epoch 1/50\n",
      "2503/2503 [==============================] - 5s 2ms/step - loss: 0.0872 - acc: 0.9722 - val_loss: 0.0454 - val_acc: 0.9836\n",
      "\n",
      "Epoch 00001: val_acc improved from -inf to 0.98357, saving model to ./model.hdf_bert_multi\n",
      "Epoch 2/50\n",
      "2503/2503 [==============================] - 5s 2ms/step - loss: 0.0457 - acc: 0.9847 - val_loss: 0.0359 - val_acc: 0.9875\n",
      "\n",
      "Epoch 00002: val_acc improved from 0.98357 to 0.98753, saving model to ./model.hdf_bert_multi\n",
      "Epoch 3/50\n",
      "2503/2503 [==============================] - 5s 2ms/step - loss: 0.0363 - acc: 0.9879 - val_loss: 0.0310 - val_acc: 0.9896\n",
      "\n",
      "Epoch 00003: val_acc improved from 0.98753 to 0.98964, saving model to ./model.hdf_bert_multi\n",
      "Epoch 4/50\n",
      "2503/2503 [==============================] - 5s 2ms/step - loss: 0.0310 - acc: 0.9895 - val_loss: 0.0274 - val_acc: 0.9907\n",
      "\n",
      "Epoch 00004: val_acc improved from 0.98964 to 0.99073, saving model to ./model.hdf_bert_multi\n",
      "Epoch 5/50\n",
      "2503/2503 [==============================] - 5s 2ms/step - loss: 0.0268 - acc: 0.9911 - val_loss: 0.0255 - val_acc: 0.9921\n",
      "\n",
      "Epoch 00005: val_acc improved from 0.99073 to 0.99206, saving model to ./model.hdf_bert_multi\n",
      "Epoch 6/50\n",
      "2503/2503 [==============================] - 5s 2ms/step - loss: 0.0233 - acc: 0.9919 - val_loss: 0.0257 - val_acc: 0.9919\n",
      "\n",
      "Epoch 00006: val_acc did not improve from 0.99206\n",
      "Epoch 7/50\n",
      "2503/2503 [==============================] - 5s 2ms/step - loss: 0.0202 - acc: 0.9930 - val_loss: 0.0283 - val_acc: 0.9908\n",
      "\n",
      "Epoch 00007: val_acc did not improve from 0.99206\n",
      "Epoch 8/50\n",
      "2503/2503 [==============================] - 5s 2ms/step - loss: 0.0182 - acc: 0.9933 - val_loss: 0.0249 - val_acc: 0.9919\n",
      "\n",
      "Epoch 00008: val_acc did not improve from 0.99206\n",
      "Epoch 9/50\n",
      "2503/2503 [==============================] - 5s 2ms/step - loss: 0.0167 - acc: 0.9941 - val_loss: 0.0263 - val_acc: 0.9922\n",
      "\n",
      "Epoch 00009: val_acc improved from 0.99206 to 0.99216, saving model to ./model.hdf_bert_multi\n",
      "Epoch 10/50\n",
      "2503/2503 [==============================] - 5s 2ms/step - loss: 0.0140 - acc: 0.9949 - val_loss: 0.0260 - val_acc: 0.9919\n",
      "\n",
      "Epoch 00010: val_acc did not improve from 0.99216\n",
      "Epoch 11/50\n",
      "2503/2503 [==============================] - 5s 2ms/step - loss: 0.0137 - acc: 0.9954 - val_loss: 0.0237 - val_acc: 0.9930\n",
      "\n",
      "Epoch 00011: val_acc improved from 0.99216 to 0.99305, saving model to ./model.hdf_bert_multi\n",
      "Epoch 12/50\n",
      "2503/2503 [==============================] - 5s 2ms/step - loss: 0.0129 - acc: 0.9954 - val_loss: 0.0240 - val_acc: 0.9930\n",
      "\n",
      "Epoch 00012: val_acc did not improve from 0.99305\n",
      "Epoch 13/50\n",
      "2503/2503 [==============================] - 5s 2ms/step - loss: 0.0120 - acc: 0.9960 - val_loss: 0.0253 - val_acc: 0.9925\n",
      "\n",
      "Epoch 00013: val_acc did not improve from 0.99305\n",
      "Epoch 14/50\n",
      "2503/2503 [==============================] - 5s 2ms/step - loss: 0.0113 - acc: 0.9960 - val_loss: 0.0271 - val_acc: 0.9921\n",
      "\n",
      "Epoch 00014: val_acc did not improve from 0.99305\n",
      "Epoch 15/50\n",
      "2503/2503 [==============================] - 5s 2ms/step - loss: 0.0103 - acc: 0.9963 - val_loss: 0.0278 - val_acc: 0.9919\n",
      "\n",
      "Epoch 00015: val_acc did not improve from 0.99305\n",
      "Epoch 16/50\n",
      "2503/2503 [==============================] - 5s 2ms/step - loss: 0.0096 - acc: 0.9965 - val_loss: 0.0266 - val_acc: 0.9928\n",
      "\n",
      "Epoch 00016: val_acc did not improve from 0.99305\n",
      "Epoch 17/50\n",
      "2503/2503 [==============================] - 5s 2ms/step - loss: 0.0099 - acc: 0.9964 - val_loss: 0.0277 - val_acc: 0.9920\n",
      "\n",
      "Epoch 00017: val_acc did not improve from 0.99305\n",
      "Epoch 18/50\n",
      "2503/2503 [==============================] - 5s 2ms/step - loss: 0.0082 - acc: 0.9970 - val_loss: 0.0282 - val_acc: 0.9925\n",
      "\n",
      "Epoch 00018: val_acc did not improve from 0.99305\n",
      "Epoch 19/50\n",
      "2503/2503 [==============================] - 5s 2ms/step - loss: 0.0088 - acc: 0.9968 - val_loss: 0.0294 - val_acc: 0.9922\n",
      "\n",
      "Epoch 00019: val_acc did not improve from 0.99305\n",
      "Epoch 20/50\n",
      "2503/2503 [==============================] - 5s 2ms/step - loss: 0.0090 - acc: 0.9968 - val_loss: 0.0285 - val_acc: 0.9921\n",
      "\n",
      "Epoch 00020: val_acc did not improve from 0.99305\n",
      "Epoch 21/50\n",
      "2503/2503 [==============================] - 5s 2ms/step - loss: 0.0076 - acc: 0.9974 - val_loss: 0.0272 - val_acc: 0.9925\n",
      "\n",
      "Epoch 00021: val_acc did not improve from 0.99305\n",
      "Training Accuracy: 0.9995\n",
      "Testing Accuracy:  0.9925\n"
     ]
    },
    {
     "data": {
      "image/png": "[encoded data removed]",
      "text/plain": [
       "<Figure size 864x360 with 2 Axes>"
      ]
     },
     "metadata": {
      "tags": []
     },
     "output_type": "display_data"
    }
   ],
   "source": [
    "history = model.fit(X_train, y_train,\n",
    "                    epochs=50,\n",
    "                    verbose=True,\n",
    "                    validation_data=(X_val, y_val),\n",
    "                    batch_size=5,\n",
    "                    callbacks = callbacks_list )\n",
    "loss, accuracy = model.evaluate(X_train, y_train, verbose=False)\n",
    "print(\"Training Accuracy: {:.4f}\".format(accuracy))\n",
    "loss, accuracy = model.evaluate(X_val, y_val, verbose=False)\n",
    "print(\"Testing Accuracy:  {:.4f}\".format(accuracy))\n",
    "plot_history(history)"
   ]
  },
  {
   "cell_type": "code",
   "execution_count": 53,
   "metadata": {
    "colab": {
     "base_uri": "https://localhost:8080/",
     "height": 255
    },
    "colab_type": "code",
    "id": "ojh5YR2Qytnb",
    "outputId": "3e6da1e5-538a-43ce-ca92-001ce8a95a71"
   },
   "outputs": [
    {
     "name": "stderr",
     "output_type": "stream",
     "text": [
      "/usr/local/lib/python3.6/dist-packages/pandas/core/indexing.py:376: SettingWithCopyWarning: \n",
      "A value is trying to be set on a copy of a slice from a DataFrame.\n",
      "Try using .loc[row_indexer,col_indexer] = value instead\n",
      "\n",
      "See the caveats in the documentation: http://pandas.pydata.org/pandas-docs/stable/user_guide/indexing.html#returning-a-view-versus-a-copy\n",
      "  self.obj[key] = _infer_fill_value(value)\n",
      "/usr/local/lib/python3.6/dist-packages/pandas/core/indexing.py:494: SettingWithCopyWarning: \n",
      "A value is trying to be set on a copy of a slice from a DataFrame.\n",
      "Try using .loc[row_indexer,col_indexer] = value instead\n",
      "\n",
      "See the caveats in the documentation: http://pandas.pydata.org/pandas-docs/stable/user_guide/indexing.html#returning-a-view-versus-a-copy\n",
      "  self.obj[item] = s\n"
     ]
    },
    {
     "name": "stdout",
     "output_type": "stream",
     "text": [
      "0.44000000000000006\n",
      "0.7715801362011383\n"
     ]
    }
   ],
   "source": [
    "X_test = Bertmodel.encode(test['UTTERANCE'].values)\n",
    "X_test = np.asarray(X_test)\n",
    "model.load_weights(\"./model.hdf_bert_multi\")\n",
    "X_TOKENsentences = Bertmodel.encode(sentences)\n",
    "X_TOKENsentences = np.asarray(X_TOKENsentences)\n",
    "threshold = 0.2;\n",
    "maxScore = 0;\n",
    "\n",
    "for x in range(40):\n",
    "    probas = model.predict(X_TOKENsentences)\n",
    "    index = 0\n",
    "    for i in probas:\n",
    "        probas[index] = (i > 0.1+(x/100)).astype(np.int)\n",
    "    #0.23\n",
    "        index = index+1\n",
    "    \n",
    "    train2_df = train2[[\"ID\"]]\n",
    "    train2_df.loc[:,\"CORE RELATIONS\"] = mlb.inverse_transform(probas)\n",
    "    train2_df.loc[:,\"CORE RELATIONS\"] = train2_df.loc[:,\"CORE RELATIONS\"].map(' '.join)\n",
    "#     train2_df.loc[:,\"CORE RELATIONS\"]= train2_df.loc[:,\"CORE RELATIONS\"].replace('', 'NO_REL')\n",
    "    if maxScore < f1_score(train[\"CORE RELATIONS\"], train2_df[\"CORE RELATIONS\"], average='weighted'):\n",
    "        maxScore = f1_score(train[\"CORE RELATIONS\"], train2_df[\"CORE RELATIONS\"], average='weighted')\n",
    "        threshold = 0.1 + x/100\n",
    "        \n",
    "print(threshold)\n",
    "print(maxScore)"
   ]
  },
  {
   "cell_type": "code",
   "execution_count": 0,
   "metadata": {
    "colab": {},
    "colab_type": "code",
    "id": "E0B-7O2cytnd"
   },
   "outputs": [],
   "source": [
    "probas1 = model.predict(X_test)\n",
    "index = 0\n",
    "for i in probas1:\n",
    "    probas1[index] = (i > threshold).astype(np.int)\n",
    "    #0.23\n",
    "    index = index+1"
   ]
  },
  {
   "cell_type": "code",
   "execution_count": 55,
   "metadata": {
    "colab": {
     "base_uri": "https://localhost:8080/",
     "height": 204
    },
    "colab_type": "code",
    "id": "UZAvf_ZZytne",
    "outputId": "0ad39f03-1a23-4022-dacd-ea5a6c61029c"
   },
   "outputs": [
    {
     "data": {
      "text/html": [
       "<div>\n",
       "<style scoped>\n",
       "    .dataframe tbody tr th:only-of-type {\n",
       "        vertical-align: middle;\n",
       "    }\n",
       "\n",
       "    .dataframe tbody tr th {\n",
       "        vertical-align: top;\n",
       "    }\n",
       "\n",
       "    .dataframe thead th {\n",
       "        text-align: right;\n",
       "    }\n",
       "</style>\n",
       "<table border=\"1\" class=\"dataframe\">\n",
       "  <thead>\n",
       "    <tr style=\"text-align: right;\">\n",
       "      <th></th>\n",
       "      <th>ID</th>\n",
       "      <th>CORE RELATIONS</th>\n",
       "    </tr>\n",
       "  </thead>\n",
       "  <tbody>\n",
       "    <tr>\n",
       "      <th>1079</th>\n",
       "      <td>1079</td>\n",
       "      <td>NO_REL movie.trailer</td>\n",
       "    </tr>\n",
       "    <tr>\n",
       "      <th>1080</th>\n",
       "      <td>1080</td>\n",
       "      <td></td>\n",
       "    </tr>\n",
       "    <tr>\n",
       "      <th>1081</th>\n",
       "      <td>1081</td>\n",
       "      <td>movie.initial_release_date</td>\n",
       "    </tr>\n",
       "    <tr>\n",
       "      <th>1082</th>\n",
       "      <td>1082</td>\n",
       "      <td></td>\n",
       "    </tr>\n",
       "    <tr>\n",
       "      <th>1083</th>\n",
       "      <td>1083</td>\n",
       "      <td>movie.country</td>\n",
       "    </tr>\n",
       "  </tbody>\n",
       "</table>\n",
       "</div>"
      ],
      "text/plain": [
       "        ID              CORE RELATIONS\n",
       "1079  1079        NO_REL movie.trailer\n",
       "1080  1080                            \n",
       "1081  1081  movie.initial_release_date\n",
       "1082  1082                            \n",
       "1083  1083               movie.country"
      ]
     },
     "execution_count": 55,
     "metadata": {
      "tags": []
     },
     "output_type": "execute_result"
    }
   ],
   "source": [
    "submission_df = submission[[\"ID\"]]\n",
    "submission_df[\"CORE RELATIONS\"] = mlb.inverse_transform(probas1)\n",
    "submission_df[\"CORE RELATIONS\"] = submission_df[\"CORE RELATIONS\"].map(' '.join)\n",
    "# submission_df[\"CORE RELATIONS\"]= submission_df[\"CORE RELATIONS\"].replace('', 'NO_REL') # movie.directed_by\n",
    "submission_df.to_csv(\"./results/submission_keras_bert_multi.csv.csv\", index=False)\n",
    "submission_df.tail()"
   ]
  },
  {
   "cell_type": "code",
   "execution_count": 56,
   "metadata": {
    "colab": {
     "base_uri": "https://localhost:8080/",
     "height": 1000
    },
    "colab_type": "code",
    "id": "nGRQ4et4ytnh",
    "outputId": "589694e4-5e32-433a-c029-48a7164ceabc"
   },
   "outputs": [
    {
     "name": "stdout",
     "output_type": "stream",
     "text": [
      "Model: \"sequential_6\"\n",
      "_________________________________________________________________\n",
      "Layer (type)                 Output Shape              Param #   \n",
      "=================================================================\n",
      "dense_12 (Dense)             (None, 512)               393728    \n",
      "_________________________________________________________________\n",
      "dense_13 (Dense)             (None, 128)               65664     \n",
      "_________________________________________________________________\n",
      "dropout_3 (Dropout)          (None, 128)               0         \n",
      "_________________________________________________________________\n",
      "dense_14 (Dense)             (None, 35)                4515      \n",
      "=================================================================\n",
      "Total params: 463,907\n",
      "Trainable params: 463,907\n",
      "Non-trainable params: 0\n",
      "_________________________________________________________________\n",
      "Train on 2503 samples, validate on 835 samples\n",
      "Epoch 1/50\n",
      "2503/2503 [==============================] - 5s 2ms/step - loss: 1.7873 - acc: 0.4858 - val_loss: 1.1544 - val_acc: 0.6886\n",
      "\n",
      "Epoch 00001: val_acc improved from -inf to 0.68862, saving model to ./model.hdf_bert_single\n",
      "Epoch 2/50\n",
      "2503/2503 [==============================] - 5s 2ms/step - loss: 1.0640 - acc: 0.7056 - val_loss: 0.9390 - val_acc: 0.7257\n",
      "\n",
      "Epoch 00002: val_acc improved from 0.68862 to 0.72575, saving model to ./model.hdf_bert_single\n",
      "Epoch 3/50\n",
      "2503/2503 [==============================] - 5s 2ms/step - loss: 0.8007 - acc: 0.7651 - val_loss: 0.9322 - val_acc: 0.7317\n",
      "\n",
      "Epoch 00003: val_acc improved from 0.72575 to 0.73174, saving model to ./model.hdf_bert_single\n",
      "Epoch 4/50\n",
      "2503/2503 [==============================] - 5s 2ms/step - loss: 0.6412 - acc: 0.8106 - val_loss: 0.8747 - val_acc: 0.7401\n",
      "\n",
      "Epoch 00004: val_acc improved from 0.73174 to 0.74012, saving model to ./model.hdf_bert_single\n",
      "Epoch 5/50\n",
      "2503/2503 [==============================] - 4s 2ms/step - loss: 0.4766 - acc: 0.8502 - val_loss: 0.8547 - val_acc: 0.7772\n",
      "\n",
      "Epoch 00005: val_acc improved from 0.74012 to 0.77725, saving model to ./model.hdf_bert_single\n",
      "Epoch 6/50\n",
      "2503/2503 [==============================] - 4s 2ms/step - loss: 0.4148 - acc: 0.8722 - val_loss: 0.8123 - val_acc: 0.7796\n",
      "\n",
      "Epoch 00006: val_acc improved from 0.77725 to 0.77964, saving model to ./model.hdf_bert_single\n",
      "Epoch 7/50\n",
      "2503/2503 [==============================] - 4s 2ms/step - loss: 0.3517 - acc: 0.8873 - val_loss: 0.8699 - val_acc: 0.7820\n",
      "\n",
      "Epoch 00007: val_acc improved from 0.77964 to 0.78204, saving model to ./model.hdf_bert_single\n",
      "Epoch 8/50\n",
      "2503/2503 [==============================] - 5s 2ms/step - loss: 0.2999 - acc: 0.9037 - val_loss: 0.9415 - val_acc: 0.7713\n",
      "\n",
      "Epoch 00008: val_acc did not improve from 0.78204\n",
      "Epoch 9/50\n",
      "2503/2503 [==============================] - 5s 2ms/step - loss: 0.2808 - acc: 0.9113 - val_loss: 0.8243 - val_acc: 0.7940\n",
      "\n",
      "Epoch 00009: val_acc improved from 0.78204 to 0.79401, saving model to ./model.hdf_bert_single\n",
      "Epoch 10/50\n",
      "2503/2503 [==============================] - 5s 2ms/step - loss: 0.2287 - acc: 0.9245 - val_loss: 0.8361 - val_acc: 0.8144\n",
      "\n",
      "Epoch 00010: val_acc improved from 0.79401 to 0.81437, saving model to ./model.hdf_bert_single\n",
      "Epoch 11/50\n",
      "2503/2503 [==============================] - 5s 2ms/step - loss: 0.2185 - acc: 0.9309 - val_loss: 0.8700 - val_acc: 0.7964\n",
      "\n",
      "Epoch 00011: val_acc did not improve from 0.81437\n",
      "Epoch 12/50\n",
      "2503/2503 [==============================] - 5s 2ms/step - loss: 0.2199 - acc: 0.9329 - val_loss: 0.8510 - val_acc: 0.8120\n",
      "\n",
      "Epoch 00012: val_acc did not improve from 0.81437\n",
      "Epoch 13/50\n",
      "2503/2503 [==============================] - 5s 2ms/step - loss: 0.1494 - acc: 0.9537 - val_loss: 1.0091 - val_acc: 0.7868\n",
      "\n",
      "Epoch 00013: val_acc did not improve from 0.81437\n",
      "Epoch 14/50\n",
      "2503/2503 [==============================] - 5s 2ms/step - loss: 0.2153 - acc: 0.9357 - val_loss: 0.9609 - val_acc: 0.8000\n",
      "\n",
      "Epoch 00014: val_acc did not improve from 0.81437\n",
      "Epoch 15/50\n",
      "2503/2503 [==============================] - 5s 2ms/step - loss: 0.1786 - acc: 0.9405 - val_loss: 0.9102 - val_acc: 0.8084\n",
      "\n",
      "Epoch 00015: val_acc did not improve from 0.81437\n",
      "Epoch 16/50\n",
      "2503/2503 [==============================] - 5s 2ms/step - loss: 0.1165 - acc: 0.9660 - val_loss: 1.0814 - val_acc: 0.8120\n",
      "\n",
      "Epoch 00016: val_acc did not improve from 0.81437\n",
      "Training Accuracy: 0.9724\n",
      "Testing Accuracy:  0.8120\n"
     ]
    },
    {
     "data": {
      "image/png": "[encoded data removed]",
      "text/plain": [
       "<Figure size 864x360 with 2 Axes>"
      ]
     },
     "metadata": {
      "tags": []
     },
     "output_type": "display_data"
    }
   ],
   "source": [
    "embedding_dim = 512\n",
    "filepath = \"./model.hdf_bert_single\"\n",
    "checkpoint = ModelCheckpoint(filepath, monitor='val_acc', verbose=1, save_best_only=True, mode='max')\n",
    "earlystopped = EarlyStopping(monitor='val_loss', mode='min', patience=10)\n",
    "callbacks_list = [earlystopped, checkpoint]\n",
    "\n",
    "model = Sequential()\n",
    "model.add(layers.Dense(512, input_dim=768, activation='relu'))\n",
    "model.add(layers.Dense(128, activation='relu', kernel_constraint=maxnorm(3)))\n",
    "model.add(Dropout(0.3))\n",
    "model.add(layers.Dense(35, activation='softmax'))\n",
    "model.compile(optimizer='adam',\n",
    "              loss='categorical_crossentropy',\n",
    "              metrics=['accuracy'])\n",
    "model.summary()\n",
    "history = model.fit(X_train, y_OH_train,\n",
    "                    epochs=50,\n",
    "                    verbose=True,\n",
    "                    validation_data=(X_val, y_OH_val),\n",
    "                    batch_size=5,\n",
    "                    callbacks = callbacks_list )\n",
    "loss, accuracy = model.evaluate(X_train, y_OH_train, verbose=False)\n",
    "print(\"Training Accuracy: {:.4f}\".format(accuracy))\n",
    "loss, accuracy = model.evaluate(X_val, y_OH_val, verbose=False)\n",
    "print(\"Testing Accuracy:  {:.4f}\".format(accuracy))\n",
    "plot_history(history)"
   ]
  },
  {
   "cell_type": "code",
   "execution_count": 0,
   "metadata": {
    "colab": {},
    "colab_type": "code",
    "id": "jcH_aVU6898r"
   },
   "outputs": [],
   "source": []
  },
  {
   "cell_type": "code",
   "execution_count": 0,
   "metadata": {
    "colab": {},
    "colab_type": "code",
    "id": "-r6BSofkytnj"
   },
   "outputs": [],
   "source": [
    "model.load_weights(\"./model.hdf_bert_single\")\n",
    "X_test = Bertmodel.encode(test['UTTERANCE'].values)\n",
    "X_test = np.asarray(X_test)"
   ]
  },
  {
   "cell_type": "code",
   "execution_count": 59,
   "metadata": {
    "colab": {
     "base_uri": "https://localhost:8080/",
     "height": 204
    },
    "colab_type": "code",
    "id": "joL0g8Mwytnm",
    "outputId": "543aaded-d9fa-433a-f345-99aa0d132ecd"
   },
   "outputs": [
    {
     "data": {
      "text/html": [
       "<div>\n",
       "<style scoped>\n",
       "    .dataframe tbody tr th:only-of-type {\n",
       "        vertical-align: middle;\n",
       "    }\n",
       "\n",
       "    .dataframe tbody tr th {\n",
       "        vertical-align: top;\n",
       "    }\n",
       "\n",
       "    .dataframe thead th {\n",
       "        text-align: right;\n",
       "    }\n",
       "</style>\n",
       "<table border=\"1\" class=\"dataframe\">\n",
       "  <thead>\n",
       "    <tr style=\"text-align: right;\">\n",
       "      <th></th>\n",
       "      <th>ID</th>\n",
       "      <th>CORE RELATIONS</th>\n",
       "    </tr>\n",
       "  </thead>\n",
       "  <tbody>\n",
       "    <tr>\n",
       "      <th>1079</th>\n",
       "      <td>1079</td>\n",
       "      <td>movie.trailer</td>\n",
       "    </tr>\n",
       "    <tr>\n",
       "      <th>1080</th>\n",
       "      <td>1080</td>\n",
       "      <td>movie.directed_by</td>\n",
       "    </tr>\n",
       "    <tr>\n",
       "      <th>1081</th>\n",
       "      <td>1081</td>\n",
       "      <td>movie.initial_release_date</td>\n",
       "    </tr>\n",
       "    <tr>\n",
       "      <th>1082</th>\n",
       "      <td>1082</td>\n",
       "      <td>movie.estimated_budget</td>\n",
       "    </tr>\n",
       "    <tr>\n",
       "      <th>1083</th>\n",
       "      <td>1083</td>\n",
       "      <td>movie.country</td>\n",
       "    </tr>\n",
       "  </tbody>\n",
       "</table>\n",
       "</div>"
      ],
      "text/plain": [
       "        ID              CORE RELATIONS\n",
       "1079  1079               movie.trailer\n",
       "1080  1080           movie.directed_by\n",
       "1081  1081  movie.initial_release_date\n",
       "1082  1082      movie.estimated_budget\n",
       "1083  1083               movie.country"
      ]
     },
     "execution_count": 59,
     "metadata": {
      "tags": []
     },
     "output_type": "execute_result"
    }
   ],
   "source": [
    "Predictions = OH_encoder.inverse_transform(model.predict(X_test)).ravel()\n",
    "submission_df[\"CORE RELATIONS\"] = LE_encoder.inverse_transform(Predictions)\n",
    "submission_df.to_csv(\"./results/submission_keras_bert_single.csv\", index=False)\n",
    "submission_df.tail()"
   ]
  },
  {
   "cell_type": "code",
   "execution_count": 60,
   "metadata": {
    "colab": {
     "base_uri": "https://localhost:8080/",
     "height": 153
    },
    "colab_type": "code",
    "id": "Gec2h0sCytnn",
    "outputId": "2fe81907-802a-42c0-b462-7102d30ee166"
   },
   "outputs": [
    {
     "name": "stdout",
     "output_type": "stream",
     "text": [
      "  adding: results/ (stored 0%)\n",
      "  adding: results/submission_keras_MLP.csv (deflated 84%)\n",
      "  adding: results/submission_keras_bert_single.csv (deflated 84%)\n",
      "  adding: results/submission_keras_embeding.csv (deflated 84%)\n",
      "  adding: results/submission_keras_bert_multi.csv.csv (deflated 83%)\n",
      "  adding: results/submission_keras_embeding_multi.csv (deflated 82%)\n",
      "  adding: results/submission_logisticRegression.csv (deflated 84%)\n",
      "  adding: results/submission_keras_cnn.csv (deflated 84%)\n"
     ]
    }
   ],
   "source": [
    "!zip -r ./results.zip ./results/\n",
    "from google.colab import files\n"
   ]
  },
  {
   "cell_type": "code",
   "execution_count": 0,
   "metadata": {
    "colab": {},
    "colab_type": "code",
    "id": "4GKRLRlhO_-K"
   },
   "outputs": [],
   "source": [
    "from sklearn.model_selection import RandomizedSearchCV"
   ]
  },
  {
   "cell_type": "code",
   "execution_count": 0,
   "metadata": {
    "colab": {},
    "colab_type": "code",
    "id": "Tqzsv6TrBXZ7"
   },
   "outputs": [],
   "source": [
    "y = train['REPLACED_RELATION'].values"
   ]
  },
  {
   "cell_type": "code",
   "execution_count": 0,
   "metadata": {
    "colab": {
     "base_uri": "https://localhost:8080/",
     "height": 68
    },
    "colab_type": "code",
    "id": "PWoo-VpRfniG",
    "outputId": "ad19fe5e-e8eb-4fc2-9b5d-704efa4e23b3"
   },
   "outputs": [
    {
     "name": "stdout",
     "output_type": "stream",
     "text": [
      "Running grid search for data set :\n",
      "Fitting 4 folds for each of 5 candidates, totalling 20 fits\n"
     ]
    },
    {
     "name": "stderr",
     "output_type": "stream",
     "text": [
      "[Parallel(n_jobs=1)]: Using backend SequentialBackend with 1 concurrent workers.\n"
     ]
    }
   ],
   "source": [
    "def create_model_embed(num_filters, kernel_size, vocab_size, embedding_dim, maxlen):\n",
    "    model = Sequential()\n",
    "    model.add(layers.Embedding(vocab_size, embedding_dim, input_length=maxlen))\n",
    "    model.add(layers.Conv1D(num_filters, kernel_size, activation='relu'))\n",
    "    model.add(layers.GlobalMaxPooling1D())\n",
    "    model.add(layers.Dense(128, activation='relu'))\n",
    "    model.add(layers.Dense(46, activation='sigmoid'))\n",
    "    model.compile(optimizer='adam',\n",
    "                  loss='binary_crossentropy',\n",
    "                  metrics=['accuracy'])\n",
    "    return model\n",
    "\n",
    "def create_model_bert(embedding_dim, embedding_dim2):\n",
    "    model = Sequential()\n",
    "    model.add(layers.Dense(embedding_dim, input_dim=768, activation='relu'))\n",
    "    model.add(layers.Dense(embedding_dim2, activation='relu'))\n",
    "    model.add(layers.Dense(35, activation='sigmoid'))\n",
    "    model.compile(optimizer='adam',\n",
    "                  loss='binary_crossentropy',\n",
    "                  metrics=['accuracy'])\n",
    "    return model\n",
    "\n",
    "# Main settings\n",
    "epochs = 50\n",
    "embedding_dim = 50\n",
    "maxlen = 100\n",
    "\n",
    "print('Running grid search for data set :')\n",
    "Labels = [ k for k in relations_counts]\n",
    "mlb = MultiLabelBinarizer(sparse_output=False,classes=None).fit([Labels])\n",
    "# mlb.classes_\n",
    "x = []\n",
    "for i in y:\n",
    "    x.append(tuple(i.split()))\n",
    "y_label = mlb.transform(x)\n",
    "\n",
    "LE_encoder = LabelEncoder().fit(y)\n",
    "integer_encoded = LE_encoder.transform(y)\n",
    "\n",
    "LB_encoder = LabelBinarizer().fit(y)\n",
    "y_LB = LB_encoder.fit_transform(y)\n",
    "\n",
    "integer_encoded = integer_encoded.reshape(len(integer_encoded), 1)\n",
    "OH_encoder = OneHotEncoder(sparse=False,categories='auto').fit(integer_encoded)\n",
    "y_OH = OH_encoder.fit_transform(integer_encoded)\n",
    "\n",
    "sentences_train, sentences_val, y_train, y_val, y_OH_train, y_OH_val = train_test_split(sentences, y_label, y_OH, test_size=0.25, random_state=1000)\n",
    "\n",
    "########################embed\n",
    "# Tokenize words\n",
    "tokenizer = Tokenizer(num_words=5000)\n",
    "tokenizer.fit_on_texts(sentences)\n",
    "X_train = tokenizer.texts_to_sequences(sentences_train)\n",
    "X_val = tokenizer.texts_to_sequences(sentences_val)\n",
    "\n",
    "# Adding 1 because of reserved 0 index\n",
    "vocab_size = len(tokenizer.word_index) + 1\n",
    "\n",
    "# Pad sequences with zeros\n",
    "X_train = pad_sequences(X_train, padding='post', maxlen=maxlen)\n",
    "X_val = pad_sequences(X_val, padding='post', maxlen=maxlen)\n",
    "\n",
    "# Parameter grid for grid search\n",
    "param_grid = dict(num_filters=[32, 64, 128],\n",
    "                  kernel_size=[3, 5, 7],\n",
    "                  vocab_size=[vocab_size], \n",
    "                  embedding_dim=[200],\n",
    "                  maxlen=[100])\n",
    "    \n",
    "model = KerasClassifier(build_fn=create_model_embed,\n",
    "                            epochs=epochs, batch_size=10,\n",
    "                            verbose=False)\n",
    "\n",
    "grid = RandomizedSearchCV(estimator=model, param_distributions=param_grid,\n",
    "                              cv=4, verbose=1, n_iter=5)\n",
    "\n",
    "grid_result = grid.fit(X_train, y_train)\n",
    "\n",
    "# Evaluate testing set\n",
    "test_accuracy = grid.score(X_val, y_val)\n",
    "s = ('Running data set\\nBest Accuracy : '\n",
    "             '{:.4f}\\n{}\\nTest Accuracy : {:.4f}\\n\\n')\n",
    "output_string = s.format(\n",
    "        grid_result.best_score_,\n",
    "        grid_result.best_params_,\n",
    "        test_accuracy)\n",
    "print(output_string)\n",
    "\n",
    "########################bert\n",
    "\n",
    "\n",
    "# Tokenize words\n",
    "sentences_train = Bertmodel.encode(sentences_train)\n",
    "sentences_val = Bertmodel.encode(sentences_val)\n",
    "sentences_train = np.asarray(sentences_train)\n",
    "sentences_val = np.asarray(sentences_val)\n",
    "X_train = sentences_train\n",
    "X_val = sentences_val\n",
    "\n",
    "\n",
    "# Parameter grid for grid search\n",
    "param_grid = dict(embedding_dim=[100, 150, 200],\n",
    "                  embedding_dim2=[100, 150])\n",
    "    \n",
    "model = KerasClassifier(build_fn=create_model_bert,\n",
    "                            epochs=epochs, batch_size=10,\n",
    "                            verbose=False)\n",
    "\n",
    "grid = RandomizedSearchCV(estimator=model, param_distributions=param_grid,\n",
    "                              cv=4, verbose=1, n_iter=5)\n",
    "\n",
    "grid_result = grid.fit(X_train, y_OH_train)\n",
    "\n",
    "# Evaluate testing set\n",
    "test_accuracy = grid.score(X_val, y_OH_val)\n",
    "s = ('Running data set\\nBest Accuracy : '\n",
    "             '{:.4f}\\n{}\\nTest Accuracy : {:.4f}\\n\\n')\n",
    "output_string = s.format(\n",
    "        grid_result.best_score_,\n",
    "        grid_result.best_params_,\n",
    "        test_accuracy)\n",
    "print(output_string)\n"
   ]
  },
  {
   "cell_type": "code",
   "execution_count": 76,
   "metadata": {
    "colab": {
     "base_uri": "https://localhost:8080/",
     "height": 119
    },
    "colab_type": "code",
    "id": "Ni1g1zKQZIFd",
    "outputId": "3cdd2bc3-7ea3-4248-ea26-b7e573ee128a"
   },
   "outputs": [
    {
     "name": "stdout",
     "output_type": "stream",
     "text": [
      "Running data set\n",
      "Best Accuracy : 0.9884\n",
      "{'embedding_dim2': 100, 'embedding_dim': 100}\n",
      "Test Accuracy : 0.9902\n",
      "\n",
      "\n"
     ]
    }
   ],
   "source": []
  },
  {
   "cell_type": "code",
   "execution_count": 41,
   "metadata": {
    "colab": {
     "base_uri": "https://localhost:8080/",
     "height": 1000
    },
    "colab_type": "code",
    "id": "boGnIesEcpgm",
    "outputId": "eef2f9b2-3ef6-4c79-9bc0-3c494a71f1d8"
   },
   "outputs": [],
   "source": [
    "# def create_model_embed_multi(num_filters, kernel_size, vocab_size, embedding_dim, maxlen):\n",
    "#     model = Sequential()\n",
    "#     model.add(layers.Embedding(vocab_size, embedding_dim, input_length=maxlen))\n",
    "#     model.add(layers.Conv1D(num_filters, kernel_size, activation='relu'))\n",
    "#     model.add(layers.GlobalMaxPooling1D())\n",
    "#     model.add(layers.Dense(128, activation='relu'))\n",
    "#     model.add(layers.Dense(46, activation='sigmoid'))\n",
    "#     model.compile(optimizer='adam',\n",
    "#                   loss='binary_crossentropy',\n",
    "#                   metrics=['accuracy'])\n",
    "#     return model\n",
    "\n",
    "# def create_model_bert_multi(embedding_dim, embedding_dim2):\n",
    "#     model = Sequential()\n",
    "#     model.add(layers.Dense(embedding_dim, input_dim=768, activation='relu'))\n",
    "#     model.add(layers.Dense(embedding_dim2, activation='relu'))\n",
    "#     model.add(layers.Dense(46, activation='sigmoid'))\n",
    "#     model.compile(optimizer='adam',\n",
    "#                   loss='binary_crossentropy',\n",
    "#                   metrics=['accuracy'])\n",
    "#     return model\n",
    "\n",
    "\n",
    "# # Main settings\n",
    "# epochs = 50\n",
    "# embedding_dim = 50\n",
    "# maxlen = 100\n",
    "\n",
    "# print('Running grid search for data set :')\n",
    "# Labels = [ k for k in relations_counts]\n",
    "# mlb = MultiLabelBinarizer(sparse_output=False,classes=None).fit([Labels])\n",
    "# # mlb.classes_\n",
    "# x = []\n",
    "# for i in y:\n",
    "#     x.append(tuple(i.split()))\n",
    "# y_label = mlb.transform(x)\n",
    "# # Train-test split\n",
    "# sentences_train, sentences_val, y_train, y_val = train_test_split(\n",
    "#         sentences, y_label, test_size=0.2, random_state=400)\n",
    "\n",
    "# #################################################################################\n",
    "# # Tokenize words\n",
    "# tokenizer = Tokenizer(num_words=5000)\n",
    "# tokenizer.fit_on_texts(sentences)\n",
    "# X_train = tokenizer.texts_to_sequences(sentences_train)\n",
    "# X_val = tokenizer.texts_to_sequences(sentences_val)\n",
    "\n",
    "# # Adding 1 because of reserved 0 index\n",
    "# vocab_size = len(tokenizer.word_index) + 1\n",
    "\n",
    "# # Pad sequences with zeros\n",
    "# X_train = pad_sequences(X_train, padding='post', maxlen=maxlen)\n",
    "# X_val = pad_sequences(X_val, padding='post', maxlen=maxlen)\n",
    "\n",
    "# # Parameter grid for grid search\n",
    "# param_grid = dict(num_filters=[32, 64, 128],\n",
    "#                   kernel_size=[3, 5, 7],\n",
    "#                   vocab_size=[1000, 3000, 6000], \n",
    "#                   embedding_dim=[50,100,150],\n",
    "#                   maxlen=[100])\n",
    "    \n",
    "# model = KerasClassifier(build_fn=create_model_embed_multi,\n",
    "#                             epochs=epochs, batch_size=10,\n",
    "#                             verbose=False)\n",
    "\n",
    "# grid = RandomizedSearchCV(estimator=model, param_distributions=param_grid,\n",
    "#                               cv=4, verbose=1, n_iter=5)\n",
    "\n",
    "# grid_result = grid.fit(X_train, y_train)\n",
    "\n",
    "# # Evaluate testing set\n",
    "# test_accuracy = grid.score(X_val, y_val)\n",
    "# s = ('Running {} data set\\nBest Accuracy : '\n",
    "#              '{:.4f}\\n{}\\nTest Accuracy : {:.4f}\\n\\n')\n",
    "# output_string = s.format(\n",
    "#         source,\n",
    "#         grid_result.best_score_,\n",
    "#         grid_result.best_params_,\n",
    "#         test_accuracy)\n",
    "# print(output_string)\n",
    "\n",
    "\n",
    "# #################################################################################\n",
    "# # Tokenize words\n",
    "# sentences_train = Bertmodel.encode(sentences_train)\n",
    "# sentences_val = Bertmodel.encode(sentences_val)\n",
    "# sentences_train = np.asarray(sentences_train)\n",
    "# sentences_val = np.asarray(sentences_val)\n",
    "# X_train = sentences_train\n",
    "# X_val = sentences_val\n",
    "\n",
    "\n",
    "# # Parameter grid for grid search\n",
    "# param_grid = dict(embedding_dim=[50, 100, 150],\n",
    "#                   embedding_dim2=[50, 100])\n",
    "    \n",
    "# model = KerasClassifier(build_fn=create_model_bert_multi,\n",
    "#                             epochs=epochs, batch_size=10,\n",
    "#                             verbose=False)\n",
    "\n",
    "# grid = RandomizedSearchCV(estimator=model, param_distributions=param_grid,\n",
    "#                               cv=4, verbose=1, n_iter=5)\n",
    "\n",
    "# grid_result = grid.fit(X_train, y_train)\n",
    "\n",
    "# # Evaluate testing set\n",
    "# test_accuracy = grid.score(X_val, y_val)\n",
    "# s = ('Running {} data set\\nBest Accuracy : '\n",
    "#              '{:.4f}\\n{}\\nTest Accuracy : {:.4f}\\n\\n')\n",
    "# output_string = s.format(\n",
    "#         source,\n",
    "#         grid_result.best_score_,\n",
    "#         grid_result.best_params_,\n",
    "#         test_accuracy)\n",
    "# print(output_string)"
   ]
  },
  {
   "cell_type": "code",
   "execution_count": 0,
   "metadata": {
    "colab": {},
    "colab_type": "code",
    "id": "NfytBlfK93Up"
   },
   "outputs": [],
   "source": [
    "\n",
    "\n"
   ]
  },
  {
   "cell_type": "code",
   "execution_count": 0,
   "metadata": {
    "colab": {},
    "colab_type": "code",
    "id": "9bNOIE1e_Asw"
   },
   "outputs": [],
   "source": []
  },
  {
   "cell_type": "code",
   "execution_count": 0,
   "metadata": {
    "colab": {},
    "colab_type": "code",
    "id": "SClUnNqpDXE6"
   },
   "outputs": [],
   "source": []
  },
  {
   "cell_type": "code",
   "execution_count": 0,
   "metadata": {
    "colab": {},
    "colab_type": "code",
    "id": "ASTo1qPROsb6"
   },
   "outputs": [],
   "source": []
  }
 ],
 "metadata": {
  "accelerator": "TPU",
  "colab": {
   "collapsed_sections": [],
   "name": "HW1_updated.ipynb",
   "provenance": []
  },
  "kernelspec": {
   "display_name": "Python 3",
   "language": "python",
   "name": "python3"
  },
  "language_info": {
   "codemirror_mode": {
    "name": "ipython",
    "version": 3
   },
   "file_extension": ".py",
   "mimetype": "text/x-python",
   "name": "python",
   "nbconvert_exporter": "python",
   "pygments_lexer": "ipython3",
   "version": "3.7.4"
  }
 },
 "nbformat": 4,
 "nbformat_minor": 1
}
